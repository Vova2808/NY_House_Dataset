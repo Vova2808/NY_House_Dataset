{
  "cells": [
    {
      "cell_type": "code",
      "source": [
        "! git clone https://github.com/Vova2808/NY_House_Dataset.git"
      ],
      "metadata": {
        "colab": {
          "base_uri": "https://localhost:8080/"
        },
        "id": "M0D_Ikhf-Lf2",
        "outputId": "40fc3ab0-7347-45fe-a98a-e4252d796b31"
      },
      "execution_count": 67,
      "outputs": [
        {
          "output_type": "stream",
          "name": "stdout",
          "text": [
            "fatal: destination path 'NY_House_Dataset' already exists and is not an empty directory.\n"
          ]
        }
      ]
    },
    {
      "cell_type": "code",
      "execution_count": 68,
      "metadata": {
        "id": "PsmNvJFl9rAT"
      },
      "outputs": [],
      "source": [
        "import pandas as pd\n",
        "\n",
        "df = pd.read_csv('/content/NY_House_Dataset/NY-House-Dataset.csv')"
      ]
    },
    {
      "cell_type": "code",
      "execution_count": 69,
      "metadata": {
        "colab": {
          "base_uri": "https://localhost:8080/",
          "height": 817
        },
        "id": "h9r9OIx1-JMX",
        "outputId": "7fc2b14f-82cc-42f4-9a48-0ac081cb664d"
      },
      "outputs": [
        {
          "output_type": "execute_result",
          "data": {
            "text/plain": [
              "                                         BROKERTITLE                TYPE  \\\n",
              "0        Brokered by Douglas Elliman  -111 Fifth Ave      Condo for sale   \n",
              "1                                Brokered by Serhant      Condo for sale   \n",
              "2                             Brokered by Sowae Corp      House for sale   \n",
              "3                                Brokered by COMPASS      Condo for sale   \n",
              "4  Brokered by Sotheby's International Realty - E...  Townhouse for sale   \n",
              "5                             Brokered by Sowae Corp      House for sale   \n",
              "6      Brokered by Douglas Elliman - 575 Madison Ave      Condo for sale   \n",
              "7                  Brokered by Connie Profaci Realty      House for sale   \n",
              "8                     Brokered by Pantiga Group Inc.      Co-op for sale   \n",
              "9                   Brokered by CENTURY 21 MK Realty      Co-op for sale   \n",
              "\n",
              "       PRICE  BEDS       BATH  PROPERTYSQFT  \\\n",
              "0     315000     2   2.000000   1400.000000   \n",
              "1  195000000     7  10.000000  17545.000000   \n",
              "2     260000     4   2.000000   2015.000000   \n",
              "3      69000     3   1.000000    445.000000   \n",
              "4   55000000     7   2.373861  14175.000000   \n",
              "5     690000     5   2.000000   4004.000000   \n",
              "6     899500     2   2.000000   2184.207862   \n",
              "7   16800000     8  16.000000  33000.000000   \n",
              "8     265000     1   1.000000    750.000000   \n",
              "9     440000     2   1.000000    978.000000   \n",
              "\n",
              "                                             ADDRESS                    STATE  \\\n",
              "0                               2 E 55th St Unit 803       New York, NY 10022   \n",
              "1  Central Park Tower Penthouse-217 W 57th New Yo...       New York, NY 10019   \n",
              "2                                   620 Sinclair Ave  Staten Island, NY 10312   \n",
              "3                            2 E 55th St Unit 908W33      Manhattan, NY 10022   \n",
              "4                                        5 E 64th St       New York, NY 10065   \n",
              "5                                        584 Park Pl       Brooklyn, NY 11238   \n",
              "6                             157 W 126th St Unit 1B       New York, NY 10027   \n",
              "7                                    177 Benedict Rd  Staten Island, NY 10304   \n",
              "8                            875 Morrison Ave Apt 3M          Bronx, NY 10473   \n",
              "9                             1350 Ocean Pkwy Apt 5G       Brooklyn, NY 11230   \n",
              "\n",
              "                                        MAIN_ADDRESS  \\\n",
              "0             2 E 55th St Unit 803New York, NY 10022   \n",
              "1  Central Park Tower Penthouse-217 W 57th New Yo...   \n",
              "2            620 Sinclair AveStaten Island, NY 10312   \n",
              "3         2 E 55th St Unit 908W33Manhattan, NY 10022   \n",
              "4                      5 E 64th StNew York, NY 10065   \n",
              "5                      584 Park PlBrooklyn, NY 11238   \n",
              "6           157 W 126th St Unit 1BNew York, NY 10027   \n",
              "7             177 Benedict RdStaten Island, NY 10304   \n",
              "8             875 Morrison Ave Apt 3MBronx, NY 10473   \n",
              "9           1350 Ocean Pkwy Apt 5GBrooklyn, NY 11230   \n",
              "\n",
              "  ADMINISTRATIVE_AREA_LEVEL_2         LOCALITY      SUBLOCALITY  \\\n",
              "0             New York County         New York        Manhattan   \n",
              "1               United States         New York  New York County   \n",
              "2               United States         New York  Richmond County   \n",
              "3               United States         New York  New York County   \n",
              "4               United States         New York  New York County   \n",
              "5               United States         New York     Kings County   \n",
              "6                    New York  New York County         New York   \n",
              "7               United States         New York  Richmond County   \n",
              "8                Bronx County        The Bronx       East Bronx   \n",
              "9                    New York     Kings County         Brooklyn   \n",
              "\n",
              "        STREET_NAME         LONG_NAME  \\\n",
              "0  East 55th Street   Regis Residence   \n",
              "1          New York  West 57th Street   \n",
              "2     Staten Island   Sinclair Avenue   \n",
              "3          New York  East 55th Street   \n",
              "4          New York  East 64th Street   \n",
              "5          Brooklyn        Park Place   \n",
              "6         Manhattan               157   \n",
              "7     Staten Island     Benedict Road   \n",
              "8   Morrison Avenue       Parking lot   \n",
              "9           Midwood              1350   \n",
              "\n",
              "                                   FORMATTED_ADDRESS   LATITUDE  LONGITUDE  \n",
              "0  Regis Residence, 2 E 55th St #803, New York, N...  40.761255 -73.974483  \n",
              "1             217 W 57th St, New York, NY 10019, USA  40.766393 -73.980991  \n",
              "2     620 Sinclair Ave, Staten Island, NY 10312, USA  40.541805 -74.196109  \n",
              "3               2 E 55th St, New York, NY 10022, USA  40.761398 -73.974613  \n",
              "4               5 E 64th St, New York, NY 10065, USA  40.767224 -73.969856  \n",
              "5               584 Park Pl, Brooklyn, NY 11238, USA  40.674363 -73.958725  \n",
              "6        157 W 126th St #1b, New York, NY 10027, USA  40.809448 -73.946777  \n",
              "7      177 Benedict Rd, Staten Island, NY 10304, USA  40.595002 -74.106424  \n",
              "8  Parking lot, 875 Morrison Ave #3m, Bronx, NY 1...  40.821586 -73.874089  \n",
              "9       1350 Ocean Pkwy #5g, Brooklyn, NY 11230, USA  40.615738 -73.969694  "
            ],
            "text/html": [
              "\n",
              "  <div id=\"df-ffbf0f77-3f45-45b3-80df-084935b0a663\" class=\"colab-df-container\">\n",
              "    <div>\n",
              "<style scoped>\n",
              "    .dataframe tbody tr th:only-of-type {\n",
              "        vertical-align: middle;\n",
              "    }\n",
              "\n",
              "    .dataframe tbody tr th {\n",
              "        vertical-align: top;\n",
              "    }\n",
              "\n",
              "    .dataframe thead th {\n",
              "        text-align: right;\n",
              "    }\n",
              "</style>\n",
              "<table border=\"1\" class=\"dataframe\">\n",
              "  <thead>\n",
              "    <tr style=\"text-align: right;\">\n",
              "      <th></th>\n",
              "      <th>BROKERTITLE</th>\n",
              "      <th>TYPE</th>\n",
              "      <th>PRICE</th>\n",
              "      <th>BEDS</th>\n",
              "      <th>BATH</th>\n",
              "      <th>PROPERTYSQFT</th>\n",
              "      <th>ADDRESS</th>\n",
              "      <th>STATE</th>\n",
              "      <th>MAIN_ADDRESS</th>\n",
              "      <th>ADMINISTRATIVE_AREA_LEVEL_2</th>\n",
              "      <th>LOCALITY</th>\n",
              "      <th>SUBLOCALITY</th>\n",
              "      <th>STREET_NAME</th>\n",
              "      <th>LONG_NAME</th>\n",
              "      <th>FORMATTED_ADDRESS</th>\n",
              "      <th>LATITUDE</th>\n",
              "      <th>LONGITUDE</th>\n",
              "    </tr>\n",
              "  </thead>\n",
              "  <tbody>\n",
              "    <tr>\n",
              "      <th>0</th>\n",
              "      <td>Brokered by Douglas Elliman  -111 Fifth Ave</td>\n",
              "      <td>Condo for sale</td>\n",
              "      <td>315000</td>\n",
              "      <td>2</td>\n",
              "      <td>2.000000</td>\n",
              "      <td>1400.000000</td>\n",
              "      <td>2 E 55th St Unit 803</td>\n",
              "      <td>New York, NY 10022</td>\n",
              "      <td>2 E 55th St Unit 803New York, NY 10022</td>\n",
              "      <td>New York County</td>\n",
              "      <td>New York</td>\n",
              "      <td>Manhattan</td>\n",
              "      <td>East 55th Street</td>\n",
              "      <td>Regis Residence</td>\n",
              "      <td>Regis Residence, 2 E 55th St #803, New York, N...</td>\n",
              "      <td>40.761255</td>\n",
              "      <td>-73.974483</td>\n",
              "    </tr>\n",
              "    <tr>\n",
              "      <th>1</th>\n",
              "      <td>Brokered by Serhant</td>\n",
              "      <td>Condo for sale</td>\n",
              "      <td>195000000</td>\n",
              "      <td>7</td>\n",
              "      <td>10.000000</td>\n",
              "      <td>17545.000000</td>\n",
              "      <td>Central Park Tower Penthouse-217 W 57th New Yo...</td>\n",
              "      <td>New York, NY 10019</td>\n",
              "      <td>Central Park Tower Penthouse-217 W 57th New Yo...</td>\n",
              "      <td>United States</td>\n",
              "      <td>New York</td>\n",
              "      <td>New York County</td>\n",
              "      <td>New York</td>\n",
              "      <td>West 57th Street</td>\n",
              "      <td>217 W 57th St, New York, NY 10019, USA</td>\n",
              "      <td>40.766393</td>\n",
              "      <td>-73.980991</td>\n",
              "    </tr>\n",
              "    <tr>\n",
              "      <th>2</th>\n",
              "      <td>Brokered by Sowae Corp</td>\n",
              "      <td>House for sale</td>\n",
              "      <td>260000</td>\n",
              "      <td>4</td>\n",
              "      <td>2.000000</td>\n",
              "      <td>2015.000000</td>\n",
              "      <td>620 Sinclair Ave</td>\n",
              "      <td>Staten Island, NY 10312</td>\n",
              "      <td>620 Sinclair AveStaten Island, NY 10312</td>\n",
              "      <td>United States</td>\n",
              "      <td>New York</td>\n",
              "      <td>Richmond County</td>\n",
              "      <td>Staten Island</td>\n",
              "      <td>Sinclair Avenue</td>\n",
              "      <td>620 Sinclair Ave, Staten Island, NY 10312, USA</td>\n",
              "      <td>40.541805</td>\n",
              "      <td>-74.196109</td>\n",
              "    </tr>\n",
              "    <tr>\n",
              "      <th>3</th>\n",
              "      <td>Brokered by COMPASS</td>\n",
              "      <td>Condo for sale</td>\n",
              "      <td>69000</td>\n",
              "      <td>3</td>\n",
              "      <td>1.000000</td>\n",
              "      <td>445.000000</td>\n",
              "      <td>2 E 55th St Unit 908W33</td>\n",
              "      <td>Manhattan, NY 10022</td>\n",
              "      <td>2 E 55th St Unit 908W33Manhattan, NY 10022</td>\n",
              "      <td>United States</td>\n",
              "      <td>New York</td>\n",
              "      <td>New York County</td>\n",
              "      <td>New York</td>\n",
              "      <td>East 55th Street</td>\n",
              "      <td>2 E 55th St, New York, NY 10022, USA</td>\n",
              "      <td>40.761398</td>\n",
              "      <td>-73.974613</td>\n",
              "    </tr>\n",
              "    <tr>\n",
              "      <th>4</th>\n",
              "      <td>Brokered by Sotheby's International Realty - E...</td>\n",
              "      <td>Townhouse for sale</td>\n",
              "      <td>55000000</td>\n",
              "      <td>7</td>\n",
              "      <td>2.373861</td>\n",
              "      <td>14175.000000</td>\n",
              "      <td>5 E 64th St</td>\n",
              "      <td>New York, NY 10065</td>\n",
              "      <td>5 E 64th StNew York, NY 10065</td>\n",
              "      <td>United States</td>\n",
              "      <td>New York</td>\n",
              "      <td>New York County</td>\n",
              "      <td>New York</td>\n",
              "      <td>East 64th Street</td>\n",
              "      <td>5 E 64th St, New York, NY 10065, USA</td>\n",
              "      <td>40.767224</td>\n",
              "      <td>-73.969856</td>\n",
              "    </tr>\n",
              "    <tr>\n",
              "      <th>5</th>\n",
              "      <td>Brokered by Sowae Corp</td>\n",
              "      <td>House for sale</td>\n",
              "      <td>690000</td>\n",
              "      <td>5</td>\n",
              "      <td>2.000000</td>\n",
              "      <td>4004.000000</td>\n",
              "      <td>584 Park Pl</td>\n",
              "      <td>Brooklyn, NY 11238</td>\n",
              "      <td>584 Park PlBrooklyn, NY 11238</td>\n",
              "      <td>United States</td>\n",
              "      <td>New York</td>\n",
              "      <td>Kings County</td>\n",
              "      <td>Brooklyn</td>\n",
              "      <td>Park Place</td>\n",
              "      <td>584 Park Pl, Brooklyn, NY 11238, USA</td>\n",
              "      <td>40.674363</td>\n",
              "      <td>-73.958725</td>\n",
              "    </tr>\n",
              "    <tr>\n",
              "      <th>6</th>\n",
              "      <td>Brokered by Douglas Elliman - 575 Madison Ave</td>\n",
              "      <td>Condo for sale</td>\n",
              "      <td>899500</td>\n",
              "      <td>2</td>\n",
              "      <td>2.000000</td>\n",
              "      <td>2184.207862</td>\n",
              "      <td>157 W 126th St Unit 1B</td>\n",
              "      <td>New York, NY 10027</td>\n",
              "      <td>157 W 126th St Unit 1BNew York, NY 10027</td>\n",
              "      <td>New York</td>\n",
              "      <td>New York County</td>\n",
              "      <td>New York</td>\n",
              "      <td>Manhattan</td>\n",
              "      <td>157</td>\n",
              "      <td>157 W 126th St #1b, New York, NY 10027, USA</td>\n",
              "      <td>40.809448</td>\n",
              "      <td>-73.946777</td>\n",
              "    </tr>\n",
              "    <tr>\n",
              "      <th>7</th>\n",
              "      <td>Brokered by Connie Profaci Realty</td>\n",
              "      <td>House for sale</td>\n",
              "      <td>16800000</td>\n",
              "      <td>8</td>\n",
              "      <td>16.000000</td>\n",
              "      <td>33000.000000</td>\n",
              "      <td>177 Benedict Rd</td>\n",
              "      <td>Staten Island, NY 10304</td>\n",
              "      <td>177 Benedict RdStaten Island, NY 10304</td>\n",
              "      <td>United States</td>\n",
              "      <td>New York</td>\n",
              "      <td>Richmond County</td>\n",
              "      <td>Staten Island</td>\n",
              "      <td>Benedict Road</td>\n",
              "      <td>177 Benedict Rd, Staten Island, NY 10304, USA</td>\n",
              "      <td>40.595002</td>\n",
              "      <td>-74.106424</td>\n",
              "    </tr>\n",
              "    <tr>\n",
              "      <th>8</th>\n",
              "      <td>Brokered by Pantiga Group Inc.</td>\n",
              "      <td>Co-op for sale</td>\n",
              "      <td>265000</td>\n",
              "      <td>1</td>\n",
              "      <td>1.000000</td>\n",
              "      <td>750.000000</td>\n",
              "      <td>875 Morrison Ave Apt 3M</td>\n",
              "      <td>Bronx, NY 10473</td>\n",
              "      <td>875 Morrison Ave Apt 3MBronx, NY 10473</td>\n",
              "      <td>Bronx County</td>\n",
              "      <td>The Bronx</td>\n",
              "      <td>East Bronx</td>\n",
              "      <td>Morrison Avenue</td>\n",
              "      <td>Parking lot</td>\n",
              "      <td>Parking lot, 875 Morrison Ave #3m, Bronx, NY 1...</td>\n",
              "      <td>40.821586</td>\n",
              "      <td>-73.874089</td>\n",
              "    </tr>\n",
              "    <tr>\n",
              "      <th>9</th>\n",
              "      <td>Brokered by CENTURY 21 MK Realty</td>\n",
              "      <td>Co-op for sale</td>\n",
              "      <td>440000</td>\n",
              "      <td>2</td>\n",
              "      <td>1.000000</td>\n",
              "      <td>978.000000</td>\n",
              "      <td>1350 Ocean Pkwy Apt 5G</td>\n",
              "      <td>Brooklyn, NY 11230</td>\n",
              "      <td>1350 Ocean Pkwy Apt 5GBrooklyn, NY 11230</td>\n",
              "      <td>New York</td>\n",
              "      <td>Kings County</td>\n",
              "      <td>Brooklyn</td>\n",
              "      <td>Midwood</td>\n",
              "      <td>1350</td>\n",
              "      <td>1350 Ocean Pkwy #5g, Brooklyn, NY 11230, USA</td>\n",
              "      <td>40.615738</td>\n",
              "      <td>-73.969694</td>\n",
              "    </tr>\n",
              "  </tbody>\n",
              "</table>\n",
              "</div>\n",
              "    <div class=\"colab-df-buttons\">\n",
              "\n",
              "  <div class=\"colab-df-container\">\n",
              "    <button class=\"colab-df-convert\" onclick=\"convertToInteractive('df-ffbf0f77-3f45-45b3-80df-084935b0a663')\"\n",
              "            title=\"Convert this dataframe to an interactive table.\"\n",
              "            style=\"display:none;\">\n",
              "\n",
              "  <svg xmlns=\"http://www.w3.org/2000/svg\" height=\"24px\" viewBox=\"0 -960 960 960\">\n",
              "    <path d=\"M120-120v-720h720v720H120Zm60-500h600v-160H180v160Zm220 220h160v-160H400v160Zm0 220h160v-160H400v160ZM180-400h160v-160H180v160Zm440 0h160v-160H620v160ZM180-180h160v-160H180v160Zm440 0h160v-160H620v160Z\"/>\n",
              "  </svg>\n",
              "    </button>\n",
              "\n",
              "  <style>\n",
              "    .colab-df-container {\n",
              "      display:flex;\n",
              "      gap: 12px;\n",
              "    }\n",
              "\n",
              "    .colab-df-convert {\n",
              "      background-color: #E8F0FE;\n",
              "      border: none;\n",
              "      border-radius: 50%;\n",
              "      cursor: pointer;\n",
              "      display: none;\n",
              "      fill: #1967D2;\n",
              "      height: 32px;\n",
              "      padding: 0 0 0 0;\n",
              "      width: 32px;\n",
              "    }\n",
              "\n",
              "    .colab-df-convert:hover {\n",
              "      background-color: #E2EBFA;\n",
              "      box-shadow: 0px 1px 2px rgba(60, 64, 67, 0.3), 0px 1px 3px 1px rgba(60, 64, 67, 0.15);\n",
              "      fill: #174EA6;\n",
              "    }\n",
              "\n",
              "    .colab-df-buttons div {\n",
              "      margin-bottom: 4px;\n",
              "    }\n",
              "\n",
              "    [theme=dark] .colab-df-convert {\n",
              "      background-color: #3B4455;\n",
              "      fill: #D2E3FC;\n",
              "    }\n",
              "\n",
              "    [theme=dark] .colab-df-convert:hover {\n",
              "      background-color: #434B5C;\n",
              "      box-shadow: 0px 1px 3px 1px rgba(0, 0, 0, 0.15);\n",
              "      filter: drop-shadow(0px 1px 2px rgba(0, 0, 0, 0.3));\n",
              "      fill: #FFFFFF;\n",
              "    }\n",
              "  </style>\n",
              "\n",
              "    <script>\n",
              "      const buttonEl =\n",
              "        document.querySelector('#df-ffbf0f77-3f45-45b3-80df-084935b0a663 button.colab-df-convert');\n",
              "      buttonEl.style.display =\n",
              "        google.colab.kernel.accessAllowed ? 'block' : 'none';\n",
              "\n",
              "      async function convertToInteractive(key) {\n",
              "        const element = document.querySelector('#df-ffbf0f77-3f45-45b3-80df-084935b0a663');\n",
              "        const dataTable =\n",
              "          await google.colab.kernel.invokeFunction('convertToInteractive',\n",
              "                                                    [key], {});\n",
              "        if (!dataTable) return;\n",
              "\n",
              "        const docLinkHtml = 'Like what you see? Visit the ' +\n",
              "          '<a target=\"_blank\" href=https://colab.research.google.com/notebooks/data_table.ipynb>data table notebook</a>'\n",
              "          + ' to learn more about interactive tables.';\n",
              "        element.innerHTML = '';\n",
              "        dataTable['output_type'] = 'display_data';\n",
              "        await google.colab.output.renderOutput(dataTable, element);\n",
              "        const docLink = document.createElement('div');\n",
              "        docLink.innerHTML = docLinkHtml;\n",
              "        element.appendChild(docLink);\n",
              "      }\n",
              "    </script>\n",
              "  </div>\n",
              "\n",
              "\n",
              "<div id=\"df-da882078-7f44-49d3-9cd7-bcfdbeac98e7\">\n",
              "  <button class=\"colab-df-quickchart\" onclick=\"quickchart('df-da882078-7f44-49d3-9cd7-bcfdbeac98e7')\"\n",
              "            title=\"Suggest charts\"\n",
              "            style=\"display:none;\">\n",
              "\n",
              "<svg xmlns=\"http://www.w3.org/2000/svg\" height=\"24px\"viewBox=\"0 0 24 24\"\n",
              "     width=\"24px\">\n",
              "    <g>\n",
              "        <path d=\"M19 3H5c-1.1 0-2 .9-2 2v14c0 1.1.9 2 2 2h14c1.1 0 2-.9 2-2V5c0-1.1-.9-2-2-2zM9 17H7v-7h2v7zm4 0h-2V7h2v10zm4 0h-2v-4h2v4z\"/>\n",
              "    </g>\n",
              "</svg>\n",
              "  </button>\n",
              "\n",
              "<style>\n",
              "  .colab-df-quickchart {\n",
              "      --bg-color: #E8F0FE;\n",
              "      --fill-color: #1967D2;\n",
              "      --hover-bg-color: #E2EBFA;\n",
              "      --hover-fill-color: #174EA6;\n",
              "      --disabled-fill-color: #AAA;\n",
              "      --disabled-bg-color: #DDD;\n",
              "  }\n",
              "\n",
              "  [theme=dark] .colab-df-quickchart {\n",
              "      --bg-color: #3B4455;\n",
              "      --fill-color: #D2E3FC;\n",
              "      --hover-bg-color: #434B5C;\n",
              "      --hover-fill-color: #FFFFFF;\n",
              "      --disabled-bg-color: #3B4455;\n",
              "      --disabled-fill-color: #666;\n",
              "  }\n",
              "\n",
              "  .colab-df-quickchart {\n",
              "    background-color: var(--bg-color);\n",
              "    border: none;\n",
              "    border-radius: 50%;\n",
              "    cursor: pointer;\n",
              "    display: none;\n",
              "    fill: var(--fill-color);\n",
              "    height: 32px;\n",
              "    padding: 0;\n",
              "    width: 32px;\n",
              "  }\n",
              "\n",
              "  .colab-df-quickchart:hover {\n",
              "    background-color: var(--hover-bg-color);\n",
              "    box-shadow: 0 1px 2px rgba(60, 64, 67, 0.3), 0 1px 3px 1px rgba(60, 64, 67, 0.15);\n",
              "    fill: var(--button-hover-fill-color);\n",
              "  }\n",
              "\n",
              "  .colab-df-quickchart-complete:disabled,\n",
              "  .colab-df-quickchart-complete:disabled:hover {\n",
              "    background-color: var(--disabled-bg-color);\n",
              "    fill: var(--disabled-fill-color);\n",
              "    box-shadow: none;\n",
              "  }\n",
              "\n",
              "  .colab-df-spinner {\n",
              "    border: 2px solid var(--fill-color);\n",
              "    border-color: transparent;\n",
              "    border-bottom-color: var(--fill-color);\n",
              "    animation:\n",
              "      spin 1s steps(1) infinite;\n",
              "  }\n",
              "\n",
              "  @keyframes spin {\n",
              "    0% {\n",
              "      border-color: transparent;\n",
              "      border-bottom-color: var(--fill-color);\n",
              "      border-left-color: var(--fill-color);\n",
              "    }\n",
              "    20% {\n",
              "      border-color: transparent;\n",
              "      border-left-color: var(--fill-color);\n",
              "      border-top-color: var(--fill-color);\n",
              "    }\n",
              "    30% {\n",
              "      border-color: transparent;\n",
              "      border-left-color: var(--fill-color);\n",
              "      border-top-color: var(--fill-color);\n",
              "      border-right-color: var(--fill-color);\n",
              "    }\n",
              "    40% {\n",
              "      border-color: transparent;\n",
              "      border-right-color: var(--fill-color);\n",
              "      border-top-color: var(--fill-color);\n",
              "    }\n",
              "    60% {\n",
              "      border-color: transparent;\n",
              "      border-right-color: var(--fill-color);\n",
              "    }\n",
              "    80% {\n",
              "      border-color: transparent;\n",
              "      border-right-color: var(--fill-color);\n",
              "      border-bottom-color: var(--fill-color);\n",
              "    }\n",
              "    90% {\n",
              "      border-color: transparent;\n",
              "      border-bottom-color: var(--fill-color);\n",
              "    }\n",
              "  }\n",
              "</style>\n",
              "\n",
              "  <script>\n",
              "    async function quickchart(key) {\n",
              "      const quickchartButtonEl =\n",
              "        document.querySelector('#' + key + ' button');\n",
              "      quickchartButtonEl.disabled = true;  // To prevent multiple clicks.\n",
              "      quickchartButtonEl.classList.add('colab-df-spinner');\n",
              "      try {\n",
              "        const charts = await google.colab.kernel.invokeFunction(\n",
              "            'suggestCharts', [key], {});\n",
              "      } catch (error) {\n",
              "        console.error('Error during call to suggestCharts:', error);\n",
              "      }\n",
              "      quickchartButtonEl.classList.remove('colab-df-spinner');\n",
              "      quickchartButtonEl.classList.add('colab-df-quickchart-complete');\n",
              "    }\n",
              "    (() => {\n",
              "      let quickchartButtonEl =\n",
              "        document.querySelector('#df-da882078-7f44-49d3-9cd7-bcfdbeac98e7 button');\n",
              "      quickchartButtonEl.style.display =\n",
              "        google.colab.kernel.accessAllowed ? 'block' : 'none';\n",
              "    })();\n",
              "  </script>\n",
              "</div>\n",
              "    </div>\n",
              "  </div>\n"
            ],
            "application/vnd.google.colaboratory.intrinsic+json": {
              "type": "dataframe",
              "variable_name": "df",
              "summary": "{\n  \"name\": \"df\",\n  \"rows\": 4801,\n  \"fields\": [\n    {\n      \"column\": \"BROKERTITLE\",\n      \"properties\": {\n        \"dtype\": \"category\",\n        \"num_unique_values\": 1036,\n        \"samples\": [\n          \"Brokered by LINCOLN V WALTERS II REALTY CORP\",\n          \"Brokered by East Coast REALTORS Inc\",\n          \"Brokered by Welhome Realty Inc\"\n        ],\n        \"semantic_type\": \"\",\n        \"description\": \"\"\n      }\n    },\n    {\n      \"column\": \"TYPE\",\n      \"properties\": {\n        \"dtype\": \"category\",\n        \"num_unique_values\": 13,\n        \"samples\": [\n          \"Mobile house for sale\",\n          \"Pending\",\n          \"Condo for sale\"\n        ],\n        \"semantic_type\": \"\",\n        \"description\": \"\"\n      }\n    },\n    {\n      \"column\": \"PRICE\",\n      \"properties\": {\n        \"dtype\": \"number\",\n        \"std\": 31355246,\n        \"min\": 2494,\n        \"max\": 2147483647,\n        \"num_unique_values\": 1274,\n        \"samples\": [\n          49500,\n          755000,\n          699998\n        ],\n        \"semantic_type\": \"\",\n        \"description\": \"\"\n      }\n    },\n    {\n      \"column\": \"BEDS\",\n      \"properties\": {\n        \"dtype\": \"number\",\n        \"std\": 2,\n        \"min\": 1,\n        \"max\": 50,\n        \"num_unique_values\": 27,\n        \"samples\": [\n          12,\n          14,\n          10\n        ],\n        \"semantic_type\": \"\",\n        \"description\": \"\"\n      }\n    },\n    {\n      \"column\": \"BATH\",\n      \"properties\": {\n        \"dtype\": \"number\",\n        \"std\": 1.9469616305978465,\n        \"min\": 0.0,\n        \"max\": 50.0,\n        \"num_unique_values\": 22,\n        \"samples\": [\n          2.0,\n          13.0,\n          8.0\n        ],\n        \"semantic_type\": \"\",\n        \"description\": \"\"\n      }\n    },\n    {\n      \"column\": \"PROPERTYSQFT\",\n      \"properties\": {\n        \"dtype\": \"number\",\n        \"std\": 2377.140893559752,\n        \"min\": 230.0,\n        \"max\": 65535.0,\n        \"num_unique_values\": 1445,\n        \"samples\": [\n          2472.0,\n          1445.0,\n          1868.0\n        ],\n        \"semantic_type\": \"\",\n        \"description\": \"\"\n      }\n    },\n    {\n      \"column\": \"ADDRESS\",\n      \"properties\": {\n        \"dtype\": \"string\",\n        \"num_unique_values\": 4582,\n        \"samples\": [\n          \"3671 Hudson Manor Ter Apt 14J\",\n          \"150 W End Ave Apt 5H\",\n          \"220 E 65th St Apt 20B\"\n        ],\n        \"semantic_type\": \"\",\n        \"description\": \"\"\n      }\n    },\n    {\n      \"column\": \"STATE\",\n      \"properties\": {\n        \"dtype\": \"category\",\n        \"num_unique_values\": 308,\n        \"samples\": [\n          \"Jackson Heights, NY 11370\",\n          \"Brooklyn, NY 11230\",\n          \"Manhattan, NY 10010\"\n        ],\n        \"semantic_type\": \"\",\n        \"description\": \"\"\n      }\n    },\n    {\n      \"column\": \"MAIN_ADDRESS\",\n      \"properties\": {\n        \"dtype\": \"string\",\n        \"num_unique_values\": 4583,\n        \"samples\": [\n          \"111 Sunset BlvdBronx, NY 10473\",\n          \"21-16 35th St Unit 1BAstoria, NY 11105\",\n          \"104-02 223rd StQueens Village, NY 11429\"\n        ],\n        \"semantic_type\": \"\",\n        \"description\": \"\"\n      }\n    },\n    {\n      \"column\": \"ADMINISTRATIVE_AREA_LEVEL_2\",\n      \"properties\": {\n        \"dtype\": \"category\",\n        \"num_unique_values\": 29,\n        \"samples\": [\n          \"11237\",\n          \"Queens County\",\n          \"11417\"\n        ],\n        \"semantic_type\": \"\",\n        \"description\": \"\"\n      }\n    },\n    {\n      \"column\": \"LOCALITY\",\n      \"properties\": {\n        \"dtype\": \"category\",\n        \"num_unique_values\": 11,\n        \"samples\": [\n          \"Queens County\",\n          \"New York\",\n          \"Queens\"\n        ],\n        \"semantic_type\": \"\",\n        \"description\": \"\"\n      }\n    },\n    {\n      \"column\": \"SUBLOCALITY\",\n      \"properties\": {\n        \"dtype\": \"category\",\n        \"num_unique_values\": 21,\n        \"samples\": [\n          \"Manhattan\",\n          \"Fort Hamilton\",\n          \"Riverdale\"\n        ],\n        \"semantic_type\": \"\",\n        \"description\": \"\"\n      }\n    },\n    {\n      \"column\": \"STREET_NAME\",\n      \"properties\": {\n        \"dtype\": \"category\",\n        \"num_unique_values\": 174,\n        \"samples\": [\n          \"John Street\",\n          \"Shore Road\",\n          \"Mill Basin\"\n        ],\n        \"semantic_type\": \"\",\n        \"description\": \"\"\n      }\n    },\n    {\n      \"column\": \"LONG_NAME\",\n      \"properties\": {\n        \"dtype\": \"string\",\n        \"num_unique_values\": 2731,\n        \"samples\": [\n          \"205th Place\",\n          \"83-52\",\n          \"1530\"\n        ],\n        \"semantic_type\": \"\",\n        \"description\": \"\"\n      }\n    },\n    {\n      \"column\": \"FORMATTED_ADDRESS\",\n      \"properties\": {\n        \"dtype\": \"string\",\n        \"num_unique_values\": 4550,\n        \"samples\": [\n          \"4410 Cayuga Ave Bsmt B3, Bronx, NY 10471, USA\",\n          \"270-10 Grand Central Pkwy #25k, Little Neck, NY 11362, USA\",\n          \"165 Cromwell Ave #2b, Staten Island, NY 10304, USA\"\n        ],\n        \"semantic_type\": \"\",\n        \"description\": \"\"\n      }\n    },\n    {\n      \"column\": \"LATITUDE\",\n      \"properties\": {\n        \"dtype\": \"number\",\n        \"std\": 0.08767556707715031,\n        \"min\": 40.4995462,\n        \"max\": 40.9127295,\n        \"num_unique_values\": 4196,\n        \"samples\": [\n          40.782238,\n          40.6180243,\n          40.7121557\n        ],\n        \"semantic_type\": \"\",\n        \"description\": \"\"\n      }\n    },\n    {\n      \"column\": \"LONGITUDE\",\n      \"properties\": {\n        \"dtype\": \"number\",\n        \"std\": 0.10108248150173901,\n        \"min\": -74.2530332,\n        \"max\": -73.70245,\n        \"num_unique_values\": 4118,\n        \"samples\": [\n          -73.9071739,\n          -74.017865,\n          -74.0802854\n        ],\n        \"semantic_type\": \"\",\n        \"description\": \"\"\n      }\n    }\n  ]\n}"
            }
          },
          "metadata": {},
          "execution_count": 69
        }
      ],
      "source": [
        "df.head(10)"
      ]
    },
    {
      "cell_type": "code",
      "execution_count": 70,
      "metadata": {
        "id": "yOu1ohXT-Q4-"
      },
      "outputs": [],
      "source": [
        "import matplotlib.pyplot as plt\n",
        "plt.style.use('dark_background')"
      ]
    },
    {
      "cell_type": "code",
      "execution_count": 71,
      "metadata": {
        "colab": {
          "base_uri": "https://localhost:8080/",
          "height": 559
        },
        "id": "HJhL9bHQ-LL7",
        "outputId": "416e5aa6-d722-476b-a829-9c8a959bc8fa"
      },
      "outputs": [
        {
          "output_type": "execute_result",
          "data": {
            "text/plain": [
              "array([[<Axes: title={'center': 'PRICE'}>,\n",
              "        <Axes: title={'center': 'BEDS'}>],\n",
              "       [<Axes: title={'center': 'BATH'}>,\n",
              "        <Axes: title={'center': 'PROPERTYSQFT'}>],\n",
              "       [<Axes: title={'center': 'LATITUDE'}>,\n",
              "        <Axes: title={'center': 'LONGITUDE'}>]], dtype=object)"
            ]
          },
          "metadata": {},
          "execution_count": 71
        },
        {
          "output_type": "display_data",
          "data": {
            "text/plain": [
              "<Figure size 640x480 with 6 Axes>"
            ],
            "image/png": "[encoded data removed]"
          },
          "metadata": {}
        }
      ],
      "source": [
        "df.hist()"
      ]
    },
    {
      "cell_type": "code",
      "execution_count": 72,
      "metadata": {
        "colab": {
          "base_uri": "https://localhost:8080/"
        },
        "id": "KIjFkW5g-MQX",
        "outputId": "11a9dcb0-beb2-4dd6-f880-f91a0bd618d7"
      },
      "outputs": [
        {
          "output_type": "execute_result",
          "data": {
            "text/plain": [
              "BROKERTITLE                    0.0\n",
              "ADMINISTRATIVE_AREA_LEVEL_2    0.0\n",
              "LATITUDE                       0.0\n",
              "FORMATTED_ADDRESS              0.0\n",
              "LONG_NAME                      0.0\n",
              "STREET_NAME                    0.0\n",
              "SUBLOCALITY                    0.0\n",
              "LOCALITY                       0.0\n",
              "MAIN_ADDRESS                   0.0\n",
              "TYPE                           0.0\n",
              "STATE                          0.0\n",
              "ADDRESS                        0.0\n",
              "PROPERTYSQFT                   0.0\n",
              "BATH                           0.0\n",
              "BEDS                           0.0\n",
              "PRICE                          0.0\n",
              "LONGITUDE                      0.0\n",
              "dtype: float64"
            ]
          },
          "metadata": {},
          "execution_count": 72
        }
      ],
      "source": [
        "df.isna().mean().sort_values(ascending=False)"
      ]
    },
    {
      "cell_type": "code",
      "execution_count": 73,
      "metadata": {
        "colab": {
          "base_uri": "https://localhost:8080/"
        },
        "id": "Z3CQLmEh_K8f",
        "outputId": "05271e3a-717a-47dc-9727-1f2b258fe0d1"
      },
      "outputs": [
        {
          "output_type": "stream",
          "name": "stdout",
          "text": [
            "<class 'pandas.core.frame.DataFrame'>\n",
            "RangeIndex: 4801 entries, 0 to 4800\n",
            "Data columns (total 17 columns):\n",
            " #   Column                       Non-Null Count  Dtype  \n",
            "---  ------                       --------------  -----  \n",
            " 0   BROKERTITLE                  4801 non-null   object \n",
            " 1   TYPE                         4801 non-null   object \n",
            " 2   PRICE                        4801 non-null   int64  \n",
            " 3   BEDS                         4801 non-null   int64  \n",
            " 4   BATH                         4801 non-null   float64\n",
            " 5   PROPERTYSQFT                 4801 non-null   float64\n",
            " 6   ADDRESS                      4801 non-null   object \n",
            " 7   STATE                        4801 non-null   object \n",
            " 8   MAIN_ADDRESS                 4801 non-null   object \n",
            " 9   ADMINISTRATIVE_AREA_LEVEL_2  4801 non-null   object \n",
            " 10  LOCALITY                     4801 non-null   object \n",
            " 11  SUBLOCALITY                  4801 non-null   object \n",
            " 12  STREET_NAME                  4801 non-null   object \n",
            " 13  LONG_NAME                    4801 non-null   object \n",
            " 14  FORMATTED_ADDRESS            4801 non-null   object \n",
            " 15  LATITUDE                     4801 non-null   float64\n",
            " 16  LONGITUDE                    4801 non-null   float64\n",
            "dtypes: float64(4), int64(2), object(11)\n",
            "memory usage: 637.8+ KB\n"
          ]
        }
      ],
      "source": [
        "df.info()"
      ]
    },
    {
      "cell_type": "code",
      "execution_count": 74,
      "metadata": {
        "colab": {
          "base_uri": "https://localhost:8080/",
          "height": 506
        },
        "id": "TAT3UqpP_OvY",
        "outputId": "a3ed6f21-9748-4191-ebe2-e4bb0a9eafa3"
      },
      "outputs": [
        {
          "output_type": "execute_result",
          "data": {
            "text/plain": [
              "array([[<Axes: title={'center': 'count'}>,\n",
              "        <Axes: title={'center': 'mean'}>]], dtype=object)"
            ]
          },
          "metadata": {},
          "execution_count": 74
        },
        {
          "output_type": "display_data",
          "data": {
            "text/plain": [
              "<Figure size 640x480 with 2 Axes>"
            ],
            "image/png": "[encoded data removed]"
          },
          "metadata": {}
        }
      ],
      "source": [
        "df.groupby('TYPE')['PRICE'].agg(['count','mean']).hist()"
      ]
    },
    {
      "cell_type": "code",
      "execution_count": 75,
      "metadata": {
        "colab": {
          "base_uri": "https://localhost:8080/"
        },
        "id": "k7aOlcki_VyM",
        "outputId": "3c09bc6c-d992-4120-8226-f0cedeb7f31e"
      },
      "outputs": [
        {
          "output_type": "stream",
          "name": "stdout",
          "text": [
            "Requirement already satisfied: catboost in /usr/local/lib/python3.10/dist-packages (1.2.5)\n",
            "Requirement already satisfied: graphviz in /usr/local/lib/python3.10/dist-packages (from catboost) (0.20.3)\n",
            "Requirement already satisfied: matplotlib in /usr/local/lib/python3.10/dist-packages (from catboost) (3.7.1)\n",
            "Requirement already satisfied: numpy>=1.16.0 in /usr/local/lib/python3.10/dist-packages (from catboost) (1.25.2)\n",
            "Requirement already satisfied: pandas>=0.24 in /usr/local/lib/python3.10/dist-packages (from catboost) (2.0.3)\n",
            "Requirement already satisfied: scipy in /usr/local/lib/python3.10/dist-packages (from catboost) (1.11.4)\n",
            "Requirement already satisfied: plotly in /usr/local/lib/python3.10/dist-packages (from catboost) (5.15.0)\n",
            "Requirement already satisfied: six in /usr/local/lib/python3.10/dist-packages (from catboost) (1.16.0)\n",
            "Requirement already satisfied: python-dateutil>=2.8.2 in /usr/local/lib/python3.10/dist-packages (from pandas>=0.24->catboost) (2.8.2)\n",
            "Requirement already satisfied: pytz>=2020.1 in /usr/local/lib/python3.10/dist-packages (from pandas>=0.24->catboost) (2023.4)\n",
            "Requirement already satisfied: tzdata>=2022.1 in /usr/local/lib/python3.10/dist-packages (from pandas>=0.24->catboost) (2024.1)\n",
            "Requirement already satisfied: contourpy>=1.0.1 in /usr/local/lib/python3.10/dist-packages (from matplotlib->catboost) (1.2.1)\n",
            "Requirement already satisfied: cycler>=0.10 in /usr/local/lib/python3.10/dist-packages (from matplotlib->catboost) (0.12.1)\n",
            "Requirement already satisfied: fonttools>=4.22.0 in /usr/local/lib/python3.10/dist-packages (from matplotlib->catboost) (4.51.0)\n",
            "Requirement already satisfied: kiwisolver>=1.0.1 in /usr/local/lib/python3.10/dist-packages (from matplotlib->catboost) (1.4.5)\n",
            "Requirement already satisfied: packaging>=20.0 in /usr/local/lib/python3.10/dist-packages (from matplotlib->catboost) (24.0)\n",
            "Requirement already satisfied: pillow>=6.2.0 in /usr/local/lib/python3.10/dist-packages (from matplotlib->catboost) (9.4.0)\n",
            "Requirement already satisfied: pyparsing>=2.3.1 in /usr/local/lib/python3.10/dist-packages (from matplotlib->catboost) (3.1.2)\n",
            "Requirement already satisfied: tenacity>=6.2.0 in /usr/local/lib/python3.10/dist-packages (from plotly->catboost) (8.3.0)\n"
          ]
        }
      ],
      "source": [
        "! pip install catboost"
      ]
    },
    {
      "cell_type": "code",
      "execution_count": 76,
      "metadata": {
        "id": "cT98FhaxAQ3h"
      },
      "outputs": [],
      "source": [
        "from catboost import CatBoostRegressor, Pool"
      ]
    },
    {
      "cell_type": "code",
      "execution_count": 77,
      "metadata": {
        "id": "ZVKWDXi7nCzX"
      },
      "outputs": [],
      "source": [
        "from sklearn.model_selection import train_test_split"
      ]
    },
    {
      "cell_type": "code",
      "execution_count": 78,
      "metadata": {
        "id": "dqPPX1HOqROI"
      },
      "outputs": [],
      "source": [
        "train, test = train_test_split(df,train_size=0.8,random_state=42)"
      ]
    },
    {
      "cell_type": "code",
      "execution_count": 79,
      "metadata": {
        "id": "qJMAgflu-L7X"
      },
      "outputs": [],
      "source": [
        "val, test = train_test_split(test,train_size=0.5,random_state=42)"
      ]
    },
    {
      "cell_type": "code",
      "execution_count": 80,
      "metadata": {
        "colab": {
          "base_uri": "https://localhost:8080/"
        },
        "id": "9P2XdqrBAZpe",
        "outputId": "568b9cf1-81d2-4b33-e3f5-22521e29efd7"
      },
      "outputs": [
        {
          "output_type": "execute_result",
          "data": {
            "text/plain": [
              "Index(['BROKERTITLE', 'TYPE', 'PRICE', 'BEDS', 'BATH', 'PROPERTYSQFT',\n",
              "       'ADDRESS', 'STATE', 'MAIN_ADDRESS', 'ADMINISTRATIVE_AREA_LEVEL_2',\n",
              "       'LOCALITY', 'SUBLOCALITY', 'STREET_NAME', 'LONG_NAME',\n",
              "       'FORMATTED_ADDRESS', 'LATITUDE', 'LONGITUDE'],\n",
              "      dtype='object')"
            ]
          },
          "metadata": {},
          "execution_count": 80
        }
      ],
      "source": [
        "df.columns"
      ]
    },
    {
      "cell_type": "code",
      "execution_count": 81,
      "metadata": {
        "colab": {
          "base_uri": "https://localhost:8080/"
        },
        "id": "7_yHuU0BAz7S",
        "outputId": "fd0fb168-05f3-4ee0-9f60-472bbd2682e0"
      },
      "outputs": [
        {
          "output_type": "stream",
          "name": "stdout",
          "text": [
            "<class 'pandas.core.frame.DataFrame'>\n",
            "RangeIndex: 4801 entries, 0 to 4800\n",
            "Data columns (total 17 columns):\n",
            " #   Column                       Non-Null Count  Dtype  \n",
            "---  ------                       --------------  -----  \n",
            " 0   BROKERTITLE                  4801 non-null   object \n",
            " 1   TYPE                         4801 non-null   object \n",
            " 2   PRICE                        4801 non-null   int64  \n",
            " 3   BEDS                         4801 non-null   int64  \n",
            " 4   BATH                         4801 non-null   float64\n",
            " 5   PROPERTYSQFT                 4801 non-null   float64\n",
            " 6   ADDRESS                      4801 non-null   object \n",
            " 7   STATE                        4801 non-null   object \n",
            " 8   MAIN_ADDRESS                 4801 non-null   object \n",
            " 9   ADMINISTRATIVE_AREA_LEVEL_2  4801 non-null   object \n",
            " 10  LOCALITY                     4801 non-null   object \n",
            " 11  SUBLOCALITY                  4801 non-null   object \n",
            " 12  STREET_NAME                  4801 non-null   object \n",
            " 13  LONG_NAME                    4801 non-null   object \n",
            " 14  FORMATTED_ADDRESS            4801 non-null   object \n",
            " 15  LATITUDE                     4801 non-null   float64\n",
            " 16  LONGITUDE                    4801 non-null   float64\n",
            "dtypes: float64(4), int64(2), object(11)\n",
            "memory usage: 637.8+ KB\n"
          ]
        }
      ],
      "source": [
        "df.info()"
      ]
    },
    {
      "cell_type": "code",
      "execution_count": 82,
      "metadata": {
        "id": "H6D3pVdYAlcr"
      },
      "outputs": [],
      "source": [
        "X = ['BEDS', 'BATH', 'PROPERTYSQFT', 'LATITUDE', 'LONGITUDE',\n",
        "    'BROKERTITLE', 'TYPE', 'STATE', 'ADMINISTRATIVE_AREA_LEVEL_2',\n",
        "    'LOCALITY', 'SUBLOCALITY', 'STREET_NAME']\n",
        "\n",
        "cat_features =['BROKERTITLE', 'TYPE', 'STATE', 'ADMINISTRATIVE_AREA_LEVEL_2', 'LOCALITY', 'SUBLOCALITY', 'STREET_NAME']\n",
        "\n",
        "\n",
        "y = ['PRICE']"
      ]
    },
    {
      "cell_type": "code",
      "execution_count": 83,
      "metadata": {
        "id": "EiCKbe7wEDdr"
      },
      "outputs": [],
      "source": [
        "# train = Pool(data=X, label=y, cat_features=cat_features)"
      ]
    },
    {
      "cell_type": "code",
      "execution_count": 99,
      "metadata": {
        "id": "y99ycKx7DQwv"
      },
      "outputs": [],
      "source": [
        "model = CatBoostRegressor(cat_features=cat_features,\n",
        "                        eval_metric='RMSE',\n",
        "                        random_seed=42,\n",
        "                        learning_rate=0.01,\n",
        "                        verbose=100)"
      ]
    },
    {
      "cell_type": "code",
      "execution_count": 100,
      "metadata": {
        "colab": {
          "base_uri": "https://localhost:8080/"
        },
        "id": "BNP89UyPDiUQ",
        "outputId": "e555975c-e104-4e1a-a7e1-a46eaa4474ce"
      },
      "outputs": [
        {
          "output_type": "stream",
          "name": "stdout",
          "text": [
            "0:\tlearn: 34878589.0348503\ttest: 5330922.0354808\tbest: 5330922.0354808 (0)\ttotal: 7.87ms\tremaining: 7.86s\n",
            "100:\tlearn: 27297007.5761770\ttest: 4449329.5360010\tbest: 4449329.5360010 (100)\ttotal: 796ms\tremaining: 7.09s\n",
            "200:\tlearn: 21391417.4278298\ttest: 4100157.1451679\tbest: 4100157.1451679 (200)\ttotal: 1.59s\tremaining: 6.31s\n",
            "300:\tlearn: 16873631.1880851\ttest: 3997128.7625767\tbest: 3997128.7625767 (300)\ttotal: 2.3s\tremaining: 5.33s\n",
            "400:\tlearn: 13356086.1763514\ttest: 3939862.0920144\tbest: 3939862.0920144 (400)\ttotal: 3.06s\tremaining: 4.57s\n",
            "500:\tlearn: 10676153.2769144\ttest: 3914626.4548950\tbest: 3914626.4548950 (500)\ttotal: 3.84s\tremaining: 3.83s\n",
            "600:\tlearn: 8651333.2952421\ttest: 3891134.0501612\tbest: 3891134.0501612 (600)\ttotal: 4.6s\tremaining: 3.05s\n",
            "700:\tlearn: 7119253.6963506\ttest: 3846275.2137040\tbest: 3846262.1060431 (699)\ttotal: 5.38s\tremaining: 2.3s\n",
            "800:\tlearn: 5965770.5120572\ttest: 3778736.5719761\tbest: 3778729.7156687 (799)\ttotal: 6.57s\tremaining: 1.63s\n",
            "900:\tlearn: 5127141.4783758\ttest: 3718798.6058810\tbest: 3718798.6058810 (900)\ttotal: 8.12s\tremaining: 892ms\n",
            "999:\tlearn: 4456465.7568830\ttest: 3632344.7765801\tbest: 3632344.7765801 (999)\ttotal: 9.58s\tremaining: 0us\n",
            "\n",
            "bestTest = 3632344.777\n",
            "bestIteration = 999\n",
            "\n"
          ]
        },
        {
          "output_type": "execute_result",
          "data": {
            "text/plain": [
              "<catboost.core.CatBoostRegressor at 0x7baaf2436e60>"
            ]
          },
          "metadata": {},
          "execution_count": 100
        }
      ],
      "source": [
        "model.fit(train[X], train[y], eval_set=(val[X], val[y]))"
      ]
    },
    {
      "cell_type": "code",
      "source": [
        "y_pred = model.predict(val[X])\n",
        "\n",
        "y_true = val[y]\n",
        "\n",
        "mae = mean_absolute_error(y_true, y_pred)\n",
        "mse = mean_squared_error(y_true, y_pred)\n",
        "rmse = mean_squared_error(y_true, y_pred, squared=False)\n",
        "r2 = r2_score(y_true, y_pred)\n",
        "\n",
        "print(f'MAE: {mae}')\n",
        "print(f'MSE: {mse}')\n",
        "print(f'RMSE: {rmse}')\n",
        "print(f'R^2: {r2}')\n",
        "\n",
        "\n",
        "plt.scatter(y_true, y_pred)\n",
        "plt.xlabel('Actual Prices')\n",
        "plt.ylabel('Predicted Prices')\n",
        "plt.title('Actual vs Predicted Prices')\n",
        "plt.show()"
      ],
      "metadata": {
        "colab": {
          "base_uri": "https://localhost:8080/",
          "height": 543
        },
        "id": "dqC49dTg14p3",
        "outputId": "314d8533-4e50-4170-94a2-5d04b3fb9fa1"
      },
      "execution_count": 101,
      "outputs": [
        {
          "output_type": "stream",
          "name": "stdout",
          "text": [
            "MAE: 1301772.540643065\n",
            "MSE: 13193928575948.967\n",
            "RMSE: 3632344.7765801316\n",
            "R^2: 0.534306813875698\n"
          ]
        },
        {
          "output_type": "display_data",
          "data": {
            "text/plain": [
              "<Figure size 640x480 with 1 Axes>"
            ],
            "image/png": "[encoded data removed]"
          },
          "metadata": {}
        }
      ]
    },
    {
      "cell_type": "code",
      "source": [
        "model.predict(test[X])"
      ],
      "metadata": {
        "colab": {
          "base_uri": "https://localhost:8080/"
        },
        "id": "asJ7_sKDBoYh",
        "outputId": "f906c5a7-c7f2-4bae-90a3-a65052bbe752"
      },
      "execution_count": 102,
      "outputs": [
        {
          "output_type": "execute_result",
          "data": {
            "text/plain": [
              "array([1.21890237e+06, 1.88564757e+06, 8.96457950e+05, 1.28876893e+07,\n",
              "       5.97907180e+06, 1.40436283e+05, 1.72290986e+06, 2.21955865e+06,\n",
              "       2.86976247e+05, 9.34560776e+05, 1.24682834e+05, 1.86468662e+06,\n",
              "       1.05946943e+06, 1.28206324e+06, 6.70832342e+05, 1.88610148e+06,\n",
              "       4.15800946e+06, 4.44783806e+06, 1.09714394e+06, 1.51654940e+06,\n",
              "       1.53833847e+06, 1.24216586e+06, 5.20502088e+05, 7.78268585e+06,\n",
              "       1.77390237e+06, 2.27113316e+07, 3.03434883e+06, 1.21131190e+06,\n",
              "       1.62972155e+06, 6.94623771e+04, 9.23345058e+05, 1.80817530e+06,\n",
              "       1.32651204e+06, 4.11297673e+05, 4.39705111e+05, 1.34383541e+06,\n",
              "       2.23820283e+06, 1.94197237e+06, 1.42696903e+06, 9.75510012e+05,\n",
              "       3.96112552e+06, 1.34157643e+06, 1.60608673e+06, 5.36703384e+05,\n",
              "       1.04765218e+06, 2.33226620e+06, 9.69701468e+05, 1.78828607e+06,\n",
              "       2.60451074e+04, 7.88633396e+05, 6.68037404e+05, 4.23070163e+05,\n",
              "       1.85321425e+06, 1.92524577e+06, 4.99046111e+06, 1.93582896e+05,\n",
              "       2.59868807e+05, 2.40574022e+05, 2.64131945e+06, 1.64115868e+06,\n",
              "       6.31205863e+04, 5.63780170e+05, 6.81948869e+05, 2.67270294e+05,\n",
              "       1.56538653e+06, 1.21711917e+06, 3.94255450e+06, 1.11577327e+06,\n",
              "       2.48176806e+05, 2.95261990e+06, 3.48401042e+05, 2.80367120e+06,\n",
              "       1.85426818e+06, 1.67086943e+06, 1.09319262e+06, 2.86976247e+05,\n",
              "       4.89609969e+05, 3.06073258e+05, 7.52465930e+05, 1.08688099e+06,\n",
              "       2.04956945e+06, 1.23469076e+06, 2.36615918e+06, 1.56289557e+06,\n",
              "       1.14564469e+07, 2.22257375e+06, 3.44974426e+05, 5.20118706e+05,\n",
              "       8.36044395e+05, 1.70371526e+05, 1.62982461e+06, 2.45544902e+05,\n",
              "       4.66159353e+06, 7.08355086e+05, 6.10491006e+05, 3.11051838e+05,\n",
              "       1.12651924e+06, 1.17094104e+06, 2.35737647e+06, 7.28669628e+05,\n",
              "       1.58569399e+06, 1.02907964e+06, 6.01064268e+05, 1.71064433e+06,\n",
              "       1.01921506e+06, 1.23223681e+06, 1.80574945e+06, 3.85734759e+05,\n",
              "       1.38695857e+06, 1.44895727e+06, 2.04824889e+06, 1.60320980e+06,\n",
              "       1.75777613e+06, 1.55807333e+06, 1.52378999e+06, 3.06884051e+06,\n",
              "       4.93384420e+06, 2.32178585e+07, 2.82305209e+06, 2.87515531e+06,\n",
              "       7.12337998e+05, 1.88885409e+06, 1.65746992e+06, 2.75443589e+05,\n",
              "       2.11860964e+06, 1.75777613e+06, 2.43196618e+06, 1.90007358e+06,\n",
              "       2.43190085e+05, 5.30840904e+06, 1.23567262e+06, 1.45460711e+06,\n",
              "       1.99610882e+06, 1.54324367e+06, 4.24393682e+05, 2.61887745e+06,\n",
              "       8.75089657e+05, 1.66339046e+06, 2.25941807e+05, 1.56699833e+05,\n",
              "       2.22420624e+05, 1.37247993e+06, 1.73307527e+06, 2.05090005e+06,\n",
              "       2.82187989e+06, 1.67905002e+06, 8.54546338e+05, 1.89455642e+06,\n",
              "       1.22669037e+06, 1.27749365e+06, 1.38553437e+06, 2.30063445e+06,\n",
              "       5.44192419e+04, 1.10447545e+06, 2.60334005e+06, 2.31634447e+05,\n",
              "       2.44860253e+05, 6.81776378e+05, 4.21052268e+05, 1.88931004e+06,\n",
              "       1.99773366e+06, 3.67271136e+05, 3.63588445e+06, 3.75782642e+05,\n",
              "       1.91397003e+06, 1.71317552e+06, 1.32339212e+06, 2.08763978e+05,\n",
              "       1.77349944e+06, 1.75652943e+06, 2.52355186e+05, 1.24988719e+05,\n",
              "       9.21194461e+05, 2.09425385e+06, 1.84488130e+06, 9.76731636e+05,\n",
              "       1.56647677e+06, 7.53396017e+05, 1.65788699e+06, 1.85053291e+06,\n",
              "       1.77109260e+06, 1.45890199e+06, 1.86920824e+06, 3.92997770e+06,\n",
              "       1.82824781e+06, 1.22047550e+06, 1.96926120e+06, 1.53370452e+06,\n",
              "       1.84838572e+06, 1.77615361e+06, 2.53452487e+05, 1.25807486e+06,\n",
              "       3.12028064e+06, 2.49151632e+05, 2.00143970e+06, 1.20995874e+06,\n",
              "       2.60451074e+04, 1.13118330e+06, 7.84747373e+05, 2.17954043e+06,\n",
              "       5.64382439e+05, 1.64913167e+06, 4.65419674e+06, 7.99535620e+06,\n",
              "       1.85881824e+06, 2.87916443e+05, 3.69771687e+06, 2.70938913e+05,\n",
              "       3.05167497e+06, 8.20762372e+05, 1.93828359e+06, 1.83308862e+06,\n",
              "       1.36284407e+06, 2.31105713e+06, 1.74906957e+06, 2.15494034e+06,\n",
              "       2.18923387e+05, 1.35831798e+06, 2.03640439e+06, 2.39293533e+06,\n",
              "       3.54187984e+06, 1.50464881e+06, 2.40943820e+05, 6.17760363e+05,\n",
              "       2.72205319e+05, 2.58980455e+06, 1.58854858e+06, 2.83711670e+07,\n",
              "       1.81128776e+06, 1.36467636e+06, 3.62788542e+05, 2.10993572e+06,\n",
              "       1.33180298e+06, 6.10616879e+05, 5.54227247e+05, 2.15658215e+06,\n",
              "       5.97532994e+05, 2.21085866e+05, 2.86986541e+06, 1.73687229e+06,\n",
              "       2.46359153e+06, 1.83432635e+06, 1.15496012e+05, 1.22398267e+06,\n",
              "       3.64326755e+06, 2.10599465e+06, 2.36065775e+06, 1.01890309e+06,\n",
              "       1.72359313e+06, 7.52828818e+05, 3.00586038e+05, 2.20881334e+06,\n",
              "       1.66643620e+06, 1.40708895e+06, 3.06073258e+05, 1.44903582e+06,\n",
              "       2.05554909e+05, 1.58861870e+06, 2.81653958e+06, 1.16269998e+06,\n",
              "       1.19598888e+06, 2.35558840e+06, 1.84632153e+06, 1.63104267e+06,\n",
              "       1.30373279e+07, 1.37688935e+06, 1.29115301e+06, 5.64196048e+05,\n",
              "       2.97948584e+06, 1.79410981e+06, 6.81561178e+05, 3.55863906e+05,\n",
              "       1.39533133e+06, 4.13765552e+05, 3.84351962e+06, 1.73899831e+06,\n",
              "       9.88402597e+05, 7.86533166e+05, 9.62141389e+04, 2.01862542e+06,\n",
              "       1.24305504e+06, 1.55821045e+06, 1.07121706e+06, 1.21063976e+06,\n",
              "       3.42301603e+06, 1.00539379e+06, 3.16421729e+07, 1.05774692e+07,\n",
              "       1.38508987e+06, 2.52999463e+06, 9.60456765e+05, 5.43494540e+04,\n",
              "       2.78849062e+06, 7.16546608e+04, 1.37024939e+06, 4.23060894e+05,\n",
              "       2.38310803e+06, 2.99368116e+05, 1.43856513e+06, 1.21990663e+06,\n",
              "       1.61858954e+06, 2.26501306e+06, 1.15659573e+05, 1.68672072e+06,\n",
              "       8.85423328e+05, 1.69775492e+06, 6.20024020e+05, 8.51517808e+06,\n",
              "       1.71146817e+06, 2.19638402e+06, 1.92849702e+06, 1.07970828e+06,\n",
              "       4.48016259e+05, 3.47007530e+06, 1.59104897e+06, 1.82466769e+06,\n",
              "       3.94654371e+05, 1.12679622e+06, 6.71610648e+05, 6.14890526e+05,\n",
              "       1.61011095e+06, 2.75957262e+06, 2.42226859e+06, 9.52823345e+05,\n",
              "       1.52191897e+06, 2.14856684e+05, 1.52084131e+05, 1.99677189e+06,\n",
              "       4.36883942e+06, 1.88473985e+06, 1.76391328e+06, 2.41731535e+06,\n",
              "       2.73684088e+04, 1.15785628e+06, 1.36909510e+06, 2.44297491e+05,\n",
              "       3.67044238e+05, 8.43006785e+05, 2.25708199e+06, 2.25054669e+06,\n",
              "       2.99502523e+05, 9.78578027e+04, 1.13777205e+06, 7.52253234e+06,\n",
              "       5.81771905e+06, 1.66373209e+06, 3.92254301e+05, 4.75057173e+06,\n",
              "       2.95158965e+05, 1.49593811e+06, 6.65117739e+05, 1.92893045e+06,\n",
              "       2.72973503e+06, 7.74633635e+05, 2.41737017e+06, 1.92695975e+06,\n",
              "       5.01155781e+05, 1.86987773e+06, 4.45720877e+05, 2.85933086e+06,\n",
              "       6.80802845e+06, 5.82478586e+05, 1.16385398e+07, 3.24421868e+06,\n",
              "       1.68010415e+06, 1.94015839e+06, 2.21687148e+06, 1.94419683e+06,\n",
              "       1.39437779e+06, 1.48839837e+06, 4.01703151e+05, 1.22199156e+05,\n",
              "       2.42185257e+06, 3.17385937e+05, 3.31343624e+06, 1.04013296e+06,\n",
              "       1.23342252e+06, 3.46394048e+06, 2.52850779e+05, 1.57874423e+05,\n",
              "       3.17868543e+05, 1.68147689e+06, 6.20327268e+06, 4.75954301e+06,\n",
              "       1.77527516e+06, 2.40160464e+05, 1.46092256e+06, 3.31483130e+05,\n",
              "       1.41804912e+06, 1.02913793e+06, 6.66725713e+05, 1.21988828e+06,\n",
              "       1.37877440e+06, 7.54932195e+05, 2.75831640e+06, 3.86541739e+05,\n",
              "       1.94646347e+06, 4.73160800e+05, 1.91397003e+06, 2.07156033e+06,\n",
              "       1.94330542e+06, 1.78704002e+06, 3.20370702e+05, 1.23938620e+06,\n",
              "       3.20710452e+06, 2.56339337e+05, 7.21801464e+05, 3.00586038e+05,\n",
              "       9.19911530e+05, 1.28877294e+06, 1.62395425e+06, 1.79199220e+05,\n",
              "       4.21941812e+06, 2.95395500e+05, 2.97430019e+05, 6.27797532e+05,\n",
              "       2.00879651e+06, 2.44634188e+06, 8.35909159e+05, 3.54187984e+06,\n",
              "       4.68039141e+05, 3.01065861e+05, 1.23231407e+06, 2.42515344e+05,\n",
              "       1.28585442e+06, 1.65933685e+05, 2.33744424e+06, 1.27652030e+06,\n",
              "       2.53044203e+06, 1.15047075e+06, 1.42633914e+06, 2.29222579e+06,\n",
              "       1.16998554e+07, 1.56079326e+06, 5.39785014e+05, 1.01094333e+06,\n",
              "       1.79676825e+05, 1.18429415e+06, 1.57873089e+06, 1.69886023e+06,\n",
              "       2.31905080e+06, 9.78003541e+05, 2.07772250e+06, 8.59865122e+05,\n",
              "       1.87466344e+06, 2.61690333e+06, 1.69302214e+06, 1.75080960e+06,\n",
              "       1.50933476e+06, 1.24415324e+06, 1.11479763e+07, 1.96250537e+06,\n",
              "       2.79119309e+05, 3.67271136e+05, 2.21717958e+06, 5.26345135e+05,\n",
              "       9.74055304e+05, 2.95158965e+05, 5.95126338e+05, 1.68853140e+06,\n",
              "       1.86668747e+06, 8.25238867e+06, 1.52585639e+06, 1.62459808e+06,\n",
              "       1.51283250e+06, 2.51113872e+05, 8.49727336e+05, 2.25583056e+06,\n",
              "       1.49869203e+06, 3.91198149e+05, 1.22896689e+07, 1.72605022e+06,\n",
              "       2.14653226e+06, 1.19117637e+06, 4.64972212e+04, 3.40716552e+05,\n",
              "       1.33715844e+06, 4.60367955e+05, 1.12951935e+06, 2.51781115e+06,\n",
              "       1.67145540e+06])"
            ]
          },
          "metadata": {},
          "execution_count": 102
        }
      ]
    },
    {
      "cell_type": "code",
      "execution_count": 103,
      "metadata": {
        "id": "VQUNE3P4D7sl"
      },
      "outputs": [],
      "source": [
        "test['pred'] = model.predict(test[X])"
      ]
    },
    {
      "cell_type": "code",
      "source": [
        "test.head(5)"
      ],
      "metadata": {
        "colab": {
          "base_uri": "https://localhost:8080/",
          "height": 469
        },
        "id": "sdPJSapgBnaM",
        "outputId": "d5e09f3d-e835-45fa-a7b4-af692c6ab6ac"
      },
      "execution_count": 104,
      "outputs": [
        {
          "output_type": "execute_result",
          "data": {
            "text/plain": [
              "                                       BROKERTITLE  \\\n",
              "2837   Brokered by American Dream Homes Realty Inc   \n",
              "3635                Brokered by Winzone Realty Inc   \n",
              "3491            Brokered by RE MAX Boutique Realty   \n",
              "2488  Brokered by RE MAX Real Estate Professionals   \n",
              "1204                Brokered by Corcoran East Side   \n",
              "\n",
              "                            TYPE     PRICE  BEDS  BATH  PROPERTYSQFT  \\\n",
              "2837              House for sale    475000     3   2.0   1280.000000   \n",
              "3635  Multi-family home for sale   1980000     3   3.0   3536.000000   \n",
              "3491              Condo for sale   1075000     3   4.0   2740.000000   \n",
              "2488  Multi-family home for sale   3099000    36  16.0  12460.000000   \n",
              "1204          Townhouse for sale  10999000     5   7.0   2184.207862   \n",
              "\n",
              "                  ADDRESS               STATE  \\\n",
              "2837     912 Cranford Ave     Bronx, NY 10466   \n",
              "3635       2635 E 19th St  Brooklyn, NY 11235   \n",
              "3491  4 Marisa Ct Unit 4A     Bronx, NY 10465   \n",
              "2488         5206 6th Ave  Brooklyn, NY 11220   \n",
              "1204        132 W 81st St  New York, NY 10024   \n",
              "\n",
              "                            MAIN_ADDRESS ADMINISTRATIVE_AREA_LEVEL_2  \\\n",
              "2837     912 Cranford AveBronx, NY 10466               United States   \n",
              "3635    2635 E 19th StBrooklyn, NY 11235               United States   \n",
              "3491  4 Marisa Ct Unit 4ABronx, NY 10465                    New York   \n",
              "2488      5206 6th AveBrooklyn, NY 11220               United States   \n",
              "1204     132 W 81st StNew York, NY 10024               United States   \n",
              "\n",
              "          LOCALITY      SUBLOCALITY STREET_NAME         LONG_NAME  \\\n",
              "2837      New York     Bronx County   The Bronx   Cranford Avenue   \n",
              "3635      New York     Kings County    Brooklyn  East 19th Street   \n",
              "3491  Bronx County        The Bronx  East Bronx                 4   \n",
              "2488      New York     Kings County    Brooklyn        6th Avenue   \n",
              "1204      New York  New York County    New York  West 81st Street   \n",
              "\n",
              "                            FORMATTED_ADDRESS   LATITUDE  LONGITUDE  \\\n",
              "2837   912 Cranford Ave, Bronx, NY 10466, USA  40.903489 -73.843596   \n",
              "3635  2635 E 19th St, Brooklyn, NY 11235, USA  40.587547 -73.950103   \n",
              "3491    4 Marisa Ct #4a, Bronx, NY 10465, USA  40.812532 -73.823993   \n",
              "2488    5206 6th Ave, Brooklyn, NY 11220, USA  40.642652 -74.009674   \n",
              "1204   132 W 81st St, New York, NY 10024, USA  40.783621 -73.975944   \n",
              "\n",
              "              pred         error  \n",
              "2837  1.218902e+06  7.439024e+05  \n",
              "3635  1.885648e+06 -9.435243e+04  \n",
              "3491  8.964579e+05 -1.785421e+05  \n",
              "2488  1.288769e+07  9.788689e+06  \n",
              "1204  5.979072e+06 -5.019928e+06  "
            ],
            "text/html": [
              "\n",
              "  <div id=\"df-4c76bc59-538e-4ae9-9764-725989650eae\" class=\"colab-df-container\">\n",
              "    <div>\n",
              "<style scoped>\n",
              "    .dataframe tbody tr th:only-of-type {\n",
              "        vertical-align: middle;\n",
              "    }\n",
              "\n",
              "    .dataframe tbody tr th {\n",
              "        vertical-align: top;\n",
              "    }\n",
              "\n",
              "    .dataframe thead th {\n",
              "        text-align: right;\n",
              "    }\n",
              "</style>\n",
              "<table border=\"1\" class=\"dataframe\">\n",
              "  <thead>\n",
              "    <tr style=\"text-align: right;\">\n",
              "      <th></th>\n",
              "      <th>BROKERTITLE</th>\n",
              "      <th>TYPE</th>\n",
              "      <th>PRICE</th>\n",
              "      <th>BEDS</th>\n",
              "      <th>BATH</th>\n",
              "      <th>PROPERTYSQFT</th>\n",
              "      <th>ADDRESS</th>\n",
              "      <th>STATE</th>\n",
              "      <th>MAIN_ADDRESS</th>\n",
              "      <th>ADMINISTRATIVE_AREA_LEVEL_2</th>\n",
              "      <th>LOCALITY</th>\n",
              "      <th>SUBLOCALITY</th>\n",
              "      <th>STREET_NAME</th>\n",
              "      <th>LONG_NAME</th>\n",
              "      <th>FORMATTED_ADDRESS</th>\n",
              "      <th>LATITUDE</th>\n",
              "      <th>LONGITUDE</th>\n",
              "      <th>pred</th>\n",
              "      <th>error</th>\n",
              "    </tr>\n",
              "  </thead>\n",
              "  <tbody>\n",
              "    <tr>\n",
              "      <th>2837</th>\n",
              "      <td>Brokered by American Dream Homes Realty Inc</td>\n",
              "      <td>House for sale</td>\n",
              "      <td>475000</td>\n",
              "      <td>3</td>\n",
              "      <td>2.0</td>\n",
              "      <td>1280.000000</td>\n",
              "      <td>912 Cranford Ave</td>\n",
              "      <td>Bronx, NY 10466</td>\n",
              "      <td>912 Cranford AveBronx, NY 10466</td>\n",
              "      <td>United States</td>\n",
              "      <td>New York</td>\n",
              "      <td>Bronx County</td>\n",
              "      <td>The Bronx</td>\n",
              "      <td>Cranford Avenue</td>\n",
              "      <td>912 Cranford Ave, Bronx, NY 10466, USA</td>\n",
              "      <td>40.903489</td>\n",
              "      <td>-73.843596</td>\n",
              "      <td>1.218902e+06</td>\n",
              "      <td>7.439024e+05</td>\n",
              "    </tr>\n",
              "    <tr>\n",
              "      <th>3635</th>\n",
              "      <td>Brokered by Winzone Realty Inc</td>\n",
              "      <td>Multi-family home for sale</td>\n",
              "      <td>1980000</td>\n",
              "      <td>3</td>\n",
              "      <td>3.0</td>\n",
              "      <td>3536.000000</td>\n",
              "      <td>2635 E 19th St</td>\n",
              "      <td>Brooklyn, NY 11235</td>\n",
              "      <td>2635 E 19th StBrooklyn, NY 11235</td>\n",
              "      <td>United States</td>\n",
              "      <td>New York</td>\n",
              "      <td>Kings County</td>\n",
              "      <td>Brooklyn</td>\n",
              "      <td>East 19th Street</td>\n",
              "      <td>2635 E 19th St, Brooklyn, NY 11235, USA</td>\n",
              "      <td>40.587547</td>\n",
              "      <td>-73.950103</td>\n",
              "      <td>1.885648e+06</td>\n",
              "      <td>-9.435243e+04</td>\n",
              "    </tr>\n",
              "    <tr>\n",
              "      <th>3491</th>\n",
              "      <td>Brokered by RE MAX Boutique Realty</td>\n",
              "      <td>Condo for sale</td>\n",
              "      <td>1075000</td>\n",
              "      <td>3</td>\n",
              "      <td>4.0</td>\n",
              "      <td>2740.000000</td>\n",
              "      <td>4 Marisa Ct Unit 4A</td>\n",
              "      <td>Bronx, NY 10465</td>\n",
              "      <td>4 Marisa Ct Unit 4ABronx, NY 10465</td>\n",
              "      <td>New York</td>\n",
              "      <td>Bronx County</td>\n",
              "      <td>The Bronx</td>\n",
              "      <td>East Bronx</td>\n",
              "      <td>4</td>\n",
              "      <td>4 Marisa Ct #4a, Bronx, NY 10465, USA</td>\n",
              "      <td>40.812532</td>\n",
              "      <td>-73.823993</td>\n",
              "      <td>8.964579e+05</td>\n",
              "      <td>-1.785421e+05</td>\n",
              "    </tr>\n",
              "    <tr>\n",
              "      <th>2488</th>\n",
              "      <td>Brokered by RE MAX Real Estate Professionals</td>\n",
              "      <td>Multi-family home for sale</td>\n",
              "      <td>3099000</td>\n",
              "      <td>36</td>\n",
              "      <td>16.0</td>\n",
              "      <td>12460.000000</td>\n",
              "      <td>5206 6th Ave</td>\n",
              "      <td>Brooklyn, NY 11220</td>\n",
              "      <td>5206 6th AveBrooklyn, NY 11220</td>\n",
              "      <td>United States</td>\n",
              "      <td>New York</td>\n",
              "      <td>Kings County</td>\n",
              "      <td>Brooklyn</td>\n",
              "      <td>6th Avenue</td>\n",
              "      <td>5206 6th Ave, Brooklyn, NY 11220, USA</td>\n",
              "      <td>40.642652</td>\n",
              "      <td>-74.009674</td>\n",
              "      <td>1.288769e+07</td>\n",
              "      <td>9.788689e+06</td>\n",
              "    </tr>\n",
              "    <tr>\n",
              "      <th>1204</th>\n",
              "      <td>Brokered by Corcoran East Side</td>\n",
              "      <td>Townhouse for sale</td>\n",
              "      <td>10999000</td>\n",
              "      <td>5</td>\n",
              "      <td>7.0</td>\n",
              "      <td>2184.207862</td>\n",
              "      <td>132 W 81st St</td>\n",
              "      <td>New York, NY 10024</td>\n",
              "      <td>132 W 81st StNew York, NY 10024</td>\n",
              "      <td>United States</td>\n",
              "      <td>New York</td>\n",
              "      <td>New York County</td>\n",
              "      <td>New York</td>\n",
              "      <td>West 81st Street</td>\n",
              "      <td>132 W 81st St, New York, NY 10024, USA</td>\n",
              "      <td>40.783621</td>\n",
              "      <td>-73.975944</td>\n",
              "      <td>5.979072e+06</td>\n",
              "      <td>-5.019928e+06</td>\n",
              "    </tr>\n",
              "  </tbody>\n",
              "</table>\n",
              "</div>\n",
              "    <div class=\"colab-df-buttons\">\n",
              "\n",
              "  <div class=\"colab-df-container\">\n",
              "    <button class=\"colab-df-convert\" onclick=\"convertToInteractive('df-4c76bc59-538e-4ae9-9764-725989650eae')\"\n",
              "            title=\"Convert this dataframe to an interactive table.\"\n",
              "            style=\"display:none;\">\n",
              "\n",
              "  <svg xmlns=\"http://www.w3.org/2000/svg\" height=\"24px\" viewBox=\"0 -960 960 960\">\n",
              "    <path d=\"M120-120v-720h720v720H120Zm60-500h600v-160H180v160Zm220 220h160v-160H400v160Zm0 220h160v-160H400v160ZM180-400h160v-160H180v160Zm440 0h160v-160H620v160ZM180-180h160v-160H180v160Zm440 0h160v-160H620v160Z\"/>\n",
              "  </svg>\n",
              "    </button>\n",
              "\n",
              "  <style>\n",
              "    .colab-df-container {\n",
              "      display:flex;\n",
              "      gap: 12px;\n",
              "    }\n",
              "\n",
              "    .colab-df-convert {\n",
              "      background-color: #E8F0FE;\n",
              "      border: none;\n",
              "      border-radius: 50%;\n",
              "      cursor: pointer;\n",
              "      display: none;\n",
              "      fill: #1967D2;\n",
              "      height: 32px;\n",
              "      padding: 0 0 0 0;\n",
              "      width: 32px;\n",
              "    }\n",
              "\n",
              "    .colab-df-convert:hover {\n",
              "      background-color: #E2EBFA;\n",
              "      box-shadow: 0px 1px 2px rgba(60, 64, 67, 0.3), 0px 1px 3px 1px rgba(60, 64, 67, 0.15);\n",
              "      fill: #174EA6;\n",
              "    }\n",
              "\n",
              "    .colab-df-buttons div {\n",
              "      margin-bottom: 4px;\n",
              "    }\n",
              "\n",
              "    [theme=dark] .colab-df-convert {\n",
              "      background-color: #3B4455;\n",
              "      fill: #D2E3FC;\n",
              "    }\n",
              "\n",
              "    [theme=dark] .colab-df-convert:hover {\n",
              "      background-color: #434B5C;\n",
              "      box-shadow: 0px 1px 3px 1px rgba(0, 0, 0, 0.15);\n",
              "      filter: drop-shadow(0px 1px 2px rgba(0, 0, 0, 0.3));\n",
              "      fill: #FFFFFF;\n",
              "    }\n",
              "  </style>\n",
              "\n",
              "    <script>\n",
              "      const buttonEl =\n",
              "        document.querySelector('#df-4c76bc59-538e-4ae9-9764-725989650eae button.colab-df-convert');\n",
              "      buttonEl.style.display =\n",
              "        google.colab.kernel.accessAllowed ? 'block' : 'none';\n",
              "\n",
              "      async function convertToInteractive(key) {\n",
              "        const element = document.querySelector('#df-4c76bc59-538e-4ae9-9764-725989650eae');\n",
              "        const dataTable =\n",
              "          await google.colab.kernel.invokeFunction('convertToInteractive',\n",
              "                                                    [key], {});\n",
              "        if (!dataTable) return;\n",
              "\n",
              "        const docLinkHtml = 'Like what you see? Visit the ' +\n",
              "          '<a target=\"_blank\" href=https://colab.research.google.com/notebooks/data_table.ipynb>data table notebook</a>'\n",
              "          + ' to learn more about interactive tables.';\n",
              "        element.innerHTML = '';\n",
              "        dataTable['output_type'] = 'display_data';\n",
              "        await google.colab.output.renderOutput(dataTable, element);\n",
              "        const docLink = document.createElement('div');\n",
              "        docLink.innerHTML = docLinkHtml;\n",
              "        element.appendChild(docLink);\n",
              "      }\n",
              "    </script>\n",
              "  </div>\n",
              "\n",
              "\n",
              "<div id=\"df-3fffbfb9-0cd4-49da-a723-ee24326ea14d\">\n",
              "  <button class=\"colab-df-quickchart\" onclick=\"quickchart('df-3fffbfb9-0cd4-49da-a723-ee24326ea14d')\"\n",
              "            title=\"Suggest charts\"\n",
              "            style=\"display:none;\">\n",
              "\n",
              "<svg xmlns=\"http://www.w3.org/2000/svg\" height=\"24px\"viewBox=\"0 0 24 24\"\n",
              "     width=\"24px\">\n",
              "    <g>\n",
              "        <path d=\"M19 3H5c-1.1 0-2 .9-2 2v14c0 1.1.9 2 2 2h14c1.1 0 2-.9 2-2V5c0-1.1-.9-2-2-2zM9 17H7v-7h2v7zm4 0h-2V7h2v10zm4 0h-2v-4h2v4z\"/>\n",
              "    </g>\n",
              "</svg>\n",
              "  </button>\n",
              "\n",
              "<style>\n",
              "  .colab-df-quickchart {\n",
              "      --bg-color: #E8F0FE;\n",
              "      --fill-color: #1967D2;\n",
              "      --hover-bg-color: #E2EBFA;\n",
              "      --hover-fill-color: #174EA6;\n",
              "      --disabled-fill-color: #AAA;\n",
              "      --disabled-bg-color: #DDD;\n",
              "  }\n",
              "\n",
              "  [theme=dark] .colab-df-quickchart {\n",
              "      --bg-color: #3B4455;\n",
              "      --fill-color: #D2E3FC;\n",
              "      --hover-bg-color: #434B5C;\n",
              "      --hover-fill-color: #FFFFFF;\n",
              "      --disabled-bg-color: #3B4455;\n",
              "      --disabled-fill-color: #666;\n",
              "  }\n",
              "\n",
              "  .colab-df-quickchart {\n",
              "    background-color: var(--bg-color);\n",
              "    border: none;\n",
              "    border-radius: 50%;\n",
              "    cursor: pointer;\n",
              "    display: none;\n",
              "    fill: var(--fill-color);\n",
              "    height: 32px;\n",
              "    padding: 0;\n",
              "    width: 32px;\n",
              "  }\n",
              "\n",
              "  .colab-df-quickchart:hover {\n",
              "    background-color: var(--hover-bg-color);\n",
              "    box-shadow: 0 1px 2px rgba(60, 64, 67, 0.3), 0 1px 3px 1px rgba(60, 64, 67, 0.15);\n",
              "    fill: var(--button-hover-fill-color);\n",
              "  }\n",
              "\n",
              "  .colab-df-quickchart-complete:disabled,\n",
              "  .colab-df-quickchart-complete:disabled:hover {\n",
              "    background-color: var(--disabled-bg-color);\n",
              "    fill: var(--disabled-fill-color);\n",
              "    box-shadow: none;\n",
              "  }\n",
              "\n",
              "  .colab-df-spinner {\n",
              "    border: 2px solid var(--fill-color);\n",
              "    border-color: transparent;\n",
              "    border-bottom-color: var(--fill-color);\n",
              "    animation:\n",
              "      spin 1s steps(1) infinite;\n",
              "  }\n",
              "\n",
              "  @keyframes spin {\n",
              "    0% {\n",
              "      border-color: transparent;\n",
              "      border-bottom-color: var(--fill-color);\n",
              "      border-left-color: var(--fill-color);\n",
              "    }\n",
              "    20% {\n",
              "      border-color: transparent;\n",
              "      border-left-color: var(--fill-color);\n",
              "      border-top-color: var(--fill-color);\n",
              "    }\n",
              "    30% {\n",
              "      border-color: transparent;\n",
              "      border-left-color: var(--fill-color);\n",
              "      border-top-color: var(--fill-color);\n",
              "      border-right-color: var(--fill-color);\n",
              "    }\n",
              "    40% {\n",
              "      border-color: transparent;\n",
              "      border-right-color: var(--fill-color);\n",
              "      border-top-color: var(--fill-color);\n",
              "    }\n",
              "    60% {\n",
              "      border-color: transparent;\n",
              "      border-right-color: var(--fill-color);\n",
              "    }\n",
              "    80% {\n",
              "      border-color: transparent;\n",
              "      border-right-color: var(--fill-color);\n",
              "      border-bottom-color: var(--fill-color);\n",
              "    }\n",
              "    90% {\n",
              "      border-color: transparent;\n",
              "      border-bottom-color: var(--fill-color);\n",
              "    }\n",
              "  }\n",
              "</style>\n",
              "\n",
              "  <script>\n",
              "    async function quickchart(key) {\n",
              "      const quickchartButtonEl =\n",
              "        document.querySelector('#' + key + ' button');\n",
              "      quickchartButtonEl.disabled = true;  // To prevent multiple clicks.\n",
              "      quickchartButtonEl.classList.add('colab-df-spinner');\n",
              "      try {\n",
              "        const charts = await google.colab.kernel.invokeFunction(\n",
              "            'suggestCharts', [key], {});\n",
              "      } catch (error) {\n",
              "        console.error('Error during call to suggestCharts:', error);\n",
              "      }\n",
              "      quickchartButtonEl.classList.remove('colab-df-spinner');\n",
              "      quickchartButtonEl.classList.add('colab-df-quickchart-complete');\n",
              "    }\n",
              "    (() => {\n",
              "      let quickchartButtonEl =\n",
              "        document.querySelector('#df-3fffbfb9-0cd4-49da-a723-ee24326ea14d button');\n",
              "      quickchartButtonEl.style.display =\n",
              "        google.colab.kernel.accessAllowed ? 'block' : 'none';\n",
              "    })();\n",
              "  </script>\n",
              "</div>\n",
              "    </div>\n",
              "  </div>\n"
            ],
            "application/vnd.google.colaboratory.intrinsic+json": {
              "type": "dataframe",
              "variable_name": "test",
              "summary": "{\n  \"name\": \"test\",\n  \"rows\": 481,\n  \"fields\": [\n    {\n      \"column\": \"BROKERTITLE\",\n      \"properties\": {\n        \"dtype\": \"string\",\n        \"num_unique_values\": 259,\n        \"samples\": [\n          \"Brokered by Mitra Hakimi Realty Group LLC\",\n          \"Brokered by Brooklynnybpo.Com Llc\",\n          \"Brokered by Douglas Elliman - 3544 Johnson Ave\"\n        ],\n        \"semantic_type\": \"\",\n        \"description\": \"\"\n      }\n    },\n    {\n      \"column\": \"TYPE\",\n      \"properties\": {\n        \"dtype\": \"category\",\n        \"num_unique_values\": 11,\n        \"samples\": [\n          \"Pending\",\n          \"House for sale\",\n          \"Contingent\"\n        ],\n        \"semantic_type\": \"\",\n        \"description\": \"\"\n      }\n    },\n    {\n      \"column\": \"PRICE\",\n      \"properties\": {\n        \"dtype\": \"number\",\n        \"std\": 4701952,\n        \"min\": 65000,\n        \"max\": 60000000,\n        \"num_unique_values\": 318,\n        \"samples\": [\n          358000,\n          75000,\n          22500000\n        ],\n        \"semantic_type\": \"\",\n        \"description\": \"\"\n      }\n    },\n    {\n      \"column\": \"BEDS\",\n      \"properties\": {\n        \"dtype\": \"number\",\n        \"std\": 2,\n        \"min\": 1,\n        \"max\": 36,\n        \"num_unique_values\": 15,\n        \"samples\": [\n          7,\n          10,\n          3\n        ],\n        \"semantic_type\": \"\",\n        \"description\": \"\"\n      }\n    },\n    {\n      \"column\": \"BATH\",\n      \"properties\": {\n        \"dtype\": \"number\",\n        \"std\": 1.6532740085638056,\n        \"min\": 0.0,\n        \"max\": 16.0,\n        \"num_unique_values\": 12,\n        \"samples\": [\n          0.0,\n          8.0,\n          2.0\n        ],\n        \"semantic_type\": \"\",\n        \"description\": \"\"\n      }\n    },\n    {\n      \"column\": \"PROPERTYSQFT\",\n      \"properties\": {\n        \"dtype\": \"number\",\n        \"std\": 1737.428123721715,\n        \"min\": 230.0,\n        \"max\": 23027.0,\n        \"num_unique_values\": 243,\n        \"samples\": [\n          750.0,\n          1757.0,\n          776.0\n        ],\n        \"semantic_type\": \"\",\n        \"description\": \"\"\n      }\n    },\n    {\n      \"column\": \"ADDRESS\",\n      \"properties\": {\n        \"dtype\": \"string\",\n        \"num_unique_values\": 479,\n        \"samples\": [\n          \"66-41 69th St Unit 1E\",\n          \"166 E 63rd St Apt 10C\",\n          \"141-16 25 Rd Unit 1D\"\n        ],\n        \"semantic_type\": \"\",\n        \"description\": \"\"\n      }\n    },\n    {\n      \"column\": \"STATE\",\n      \"properties\": {\n        \"dtype\": \"category\",\n        \"num_unique_values\": 168,\n        \"samples\": [\n          \"Manhattan, NY 10024\",\n          \"Stuyvesant Heights, NY 11233\",\n          \"Staten Island, NY 10301\"\n        ],\n        \"semantic_type\": \"\",\n        \"description\": \"\"\n      }\n    },\n    {\n      \"column\": \"MAIN_ADDRESS\",\n      \"properties\": {\n        \"dtype\": \"string\",\n        \"num_unique_values\": 479,\n        \"samples\": [\n          \"66-41 69th St Unit 1EMiddle Village, NY 11379\",\n          \"166 E 63rd St Apt 10CNew York, NY 10065\",\n          \"141-16 25 Rd Unit 1DFlushing, NY 11354\"\n        ],\n        \"semantic_type\": \"\",\n        \"description\": \"\"\n      }\n    },\n    {\n      \"column\": \"ADMINISTRATIVE_AREA_LEVEL_2\",\n      \"properties\": {\n        \"dtype\": \"category\",\n        \"num_unique_values\": 9,\n        \"samples\": [\n          \"11414\",\n          \"New York\",\n          \"New York County\"\n        ],\n        \"semantic_type\": \"\",\n        \"description\": \"\"\n      }\n    },\n    {\n      \"column\": \"LOCALITY\",\n      \"properties\": {\n        \"dtype\": \"category\",\n        \"num_unique_values\": 8,\n        \"samples\": [\n          \"Bronx County\",\n          \"New York County\",\n          \"New York\"\n        ],\n        \"semantic_type\": \"\",\n        \"description\": \"\"\n      }\n    },\n    {\n      \"column\": \"SUBLOCALITY\",\n      \"properties\": {\n        \"dtype\": \"category\",\n        \"num_unique_values\": 13,\n        \"samples\": [\n          \"Manhattan\",\n          \"Staten Island\",\n          \"Bronx County\"\n        ],\n        \"semantic_type\": \"\",\n        \"description\": \"\"\n      }\n    },\n    {\n      \"column\": \"STREET_NAME\",\n      \"properties\": {\n        \"dtype\": \"category\",\n        \"num_unique_values\": 70,\n        \"samples\": [\n          \"Norwood\",\n          \"The Bronx\",\n          \"Fresh Meadows\"\n        ],\n        \"semantic_type\": \"\",\n        \"description\": \"\"\n      }\n    },\n    {\n      \"column\": \"LONG_NAME\",\n      \"properties\": {\n        \"dtype\": \"string\",\n        \"num_unique_values\": 439,\n        \"samples\": [\n          \"118\",\n          \"214\",\n          \"8853\"\n        ],\n        \"semantic_type\": \"\",\n        \"description\": \"\"\n      }\n    },\n    {\n      \"column\": \"FORMATTED_ADDRESS\",\n      \"properties\": {\n        \"dtype\": \"string\",\n        \"num_unique_values\": 479,\n        \"samples\": [\n          \"6641 69th St # P-1, Flushing, NY 11379, USA\",\n          \"166 E 63rd St #10c, New York, NY 10065, USA\",\n          \"141-16 25th Rd #1d, Flushing, NY 11354, USA\"\n        ],\n        \"semantic_type\": \"\",\n        \"description\": \"\"\n      }\n    },\n    {\n      \"column\": \"LATITUDE\",\n      \"properties\": {\n        \"dtype\": \"number\",\n        \"std\": 0.08851998011718393,\n        \"min\": 40.4997983,\n        \"max\": 40.9049984,\n        \"num_unique_values\": 473,\n        \"samples\": [\n          40.7757085,\n          40.705216,\n          40.61593\n        ],\n        \"semantic_type\": \"\",\n        \"description\": \"\"\n      }\n    },\n    {\n      \"column\": \"LONGITUDE\",\n      \"properties\": {\n        \"dtype\": \"number\",\n        \"std\": 0.1040742887489017,\n        \"min\": -74.2411663,\n        \"max\": -73.7083076,\n        \"num_unique_values\": 471,\n        \"samples\": [\n          -73.8271079,\n          -74.0085311,\n          -74.0335829\n        ],\n        \"semantic_type\": \"\",\n        \"description\": \"\"\n      }\n    },\n    {\n      \"column\": \"pred\",\n      \"properties\": {\n        \"dtype\": \"number\",\n        \"std\": 2916853.5179111073,\n        \"min\": 26045.107372091617,\n        \"max\": 31642172.858707286,\n        \"num_unique_values\": 472,\n        \"samples\": [\n          193582.8956794152,\n          1670869.4347141834,\n          411297.6730303122\n        ],\n        \"semantic_type\": \"\",\n        \"description\": \"\"\n      }\n    },\n    {\n      \"column\": \"error\",\n      \"properties\": {\n        \"dtype\": \"number\",\n        \"std\": 4181597.1419653874,\n        \"min\": -56057445.49797535,\n        \"max\": 21376166.984613758,\n        \"num_unique_values\": 478,\n        \"samples\": [\n          1447532.2612909651,\n          82297.67303031217,\n          301108.81573744654\n        ],\n        \"semantic_type\": \"\",\n        \"description\": \"\"\n      }\n    }\n  ]\n}"
            }
          },
          "metadata": {},
          "execution_count": 104
        }
      ]
    },
    {
      "cell_type": "code",
      "source": [
        "from sklearn.metrics import mean_absolute_error, mean_absolute_percentage_error"
      ],
      "metadata": {
        "id": "KflIvbBfBq4-"
      },
      "execution_count": 105,
      "outputs": []
    },
    {
      "cell_type": "code",
      "source": [
        "def error(y_true, y_pred):\n",
        "  print(mean_absolute_error(y_true,y_pred))\n",
        "  print(mean_absolute_percentage_error(y_true,y_pred))"
      ],
      "metadata": {
        "id": "Zd0jEuHTB4uD"
      },
      "execution_count": 106,
      "outputs": []
    },
    {
      "cell_type": "code",
      "source": [
        "error(test['PRICE'],test['pred'])"
      ],
      "metadata": {
        "colab": {
          "base_uri": "https://localhost:8080/"
        },
        "id": "T4eCKOVYCD-S",
        "outputId": "96f94762-b46e-4ee6-848d-04aba62d7963"
      },
      "execution_count": 107,
      "outputs": [
        {
          "output_type": "stream",
          "name": "stdout",
          "text": [
            "1301335.7668735788\n",
            "0.9352747604081285\n"
          ]
        }
      ]
    },
    {
      "cell_type": "code",
      "source": [
        "test['error'] = test['pred'] - test['PRICE']"
      ],
      "metadata": {
        "id": "CwtS9eewCEjb"
      },
      "execution_count": 108,
      "outputs": []
    },
    {
      "cell_type": "code",
      "source": [
        "test['error'].hist()"
      ],
      "metadata": {
        "colab": {
          "base_uri": "https://localhost:8080/",
          "height": 466
        },
        "id": "oR7hfcQ1CYzP",
        "outputId": "de1ef332-4d29-4470-a656-48109b1bb78f"
      },
      "execution_count": 109,
      "outputs": [
        {
          "output_type": "execute_result",
          "data": {
            "text/plain": [
              "<Axes: >"
            ]
          },
          "metadata": {},
          "execution_count": 109
        },
        {
          "output_type": "display_data",
          "data": {
            "text/plain": [
              "<Figure size 640x480 with 1 Axes>"
            ],
            "image/png": "[encoded data removed]"
          },
          "metadata": {}
        }
      ]
    },
    {
      "cell_type": "code",
      "source": [
        "from sklearn.metrics import mean_squared_error\n",
        "import numpy as np\n",
        "\n",
        "rmse = np.sqrt(mean_squared_error(test['PRICE'], test['pred']))\n",
        "print(f'RMSE: {rmse}')"
      ],
      "metadata": {
        "colab": {
          "base_uri": "https://localhost:8080/"
        },
        "id": "_F05o8w_CZ3-",
        "outputId": "9115fa57-9cdd-42ca-ede6-beca177b8d76"
      },
      "execution_count": 110,
      "outputs": [
        {
          "output_type": "stream",
          "name": "stdout",
          "text": [
            "RMSE: 4177252.894595648\n"
          ]
        }
      ]
    },
    {
      "cell_type": "code",
      "source": [
        "from sklearn.metrics import mean_absolute_error, mean_squared_error, r2_score\n",
        "\n",
        "y_pred = model.predict(val[X])\n",
        "\n",
        "y_true = val[y]\n",
        "\n",
        "mae = mean_absolute_error(y_true, y_pred)\n",
        "mse = mean_squared_error(y_true, y_pred)\n",
        "rmse = mean_squared_error(y_true, y_pred, squared=False)\n",
        "r2 = r2_score(y_true, y_pred)\n",
        "\n",
        "# Вывод метрик\n",
        "print(f'MAE: {mae}')\n",
        "print(f'MSE: {mse}')\n",
        "print(f'RMSE: {rmse}')\n",
        "print(f'R^2: {r2}')\n",
        "\n"
      ],
      "metadata": {
        "colab": {
          "base_uri": "https://localhost:8080/"
        },
        "id": "675ywyEyDFGv",
        "outputId": "71a847fb-b9e4-4394-ce57-0805bd58554f"
      },
      "execution_count": 111,
      "outputs": [
        {
          "output_type": "stream",
          "name": "stdout",
          "text": [
            "MAE: 1301772.540643065\n",
            "MSE: 13193928575948.967\n",
            "RMSE: 3632344.7765801316\n",
            "R^2: 0.534306813875698\n"
          ]
        }
      ]
    },
    {
      "cell_type": "code",
      "source": [
        "y_preds = model.predict(test[X])\n"
      ],
      "metadata": {
        "id": "s6rGcDNy9ifU"
      },
      "execution_count": 113,
      "outputs": []
    },
    {
      "cell_type": "code",
      "source": [
        "from sklearn.metrics import mean_squared_error\n",
        "mean_squared_error(test['PRICE'], y_preds)"
      ],
      "metadata": {
        "colab": {
          "base_uri": "https://localhost:8080/"
        },
        "id": "7SNXNrhi6yKc",
        "outputId": "d5f043d1-5299-47f6-c305-ac416516d48a"
      },
      "execution_count": 115,
      "outputs": [
        {
          "output_type": "execute_result",
          "data": {
            "text/plain": [
              "17449441745407.72"
            ]
          },
          "metadata": {},
          "execution_count": 115
        }
      ]
    },
    {
      "cell_type": "code",
      "source": [
        "fig = plt.figure(figsize=(20, 10))\n",
        "sns.regplot(data=df, x=test['PRICE'], y=y_preds, x_jitter=.15, line_kws=dict(color=\"r\"),)\n",
        "plt.xlabel('Actual')\n",
        "plt.ylabel('Predicted')\n",
        "plt.title('Actual vs Predicted')\n",
        "plt.ticklabel_format(style = 'plain')"
      ],
      "metadata": {
        "id": "CSOhOGC_9cUu",
        "outputId": "3207436e-9564-4a08-d83a-c851b9221171",
        "colab": {
          "base_uri": "https://localhost:8080/",
          "height": 872
        }
      },
      "execution_count": 118,
      "outputs": [
        {
          "output_type": "display_data",
          "data": {
            "text/plain": [
              "<Figure size 2000x1000 with 1 Axes>"
            ],
            "image/png": "[encoded data removed]"
          },
          "metadata": {}
        }
      ]
    },
    {
      "cell_type": "code",
      "source": [],
      "metadata": {
        "id": "JiDVQ26Y-PrH"
      },
      "execution_count": null,
      "outputs": []
    }
  ],
  "metadata": {
    "colab": {
      "provenance": []
    },
    "kernelspec": {
      "display_name": "Python 3",
      "name": "python3"
    },
    "language_info": {
      "name": "python"
    }
  },
  "nbformat": 4,
  "nbformat_minor": 0
}